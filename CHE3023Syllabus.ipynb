{
  "nbformat": 4,
  "nbformat_minor": 0,
  "metadata": {
    "colab": {
      "name": "CHE3023Syllabus.ipynb",
      "provenance": [],
      "include_colab_link": true
    },
    "kernelspec": {
      "name": "python3",
      "display_name": "Python 3"
    },
    "language_info": {
      "name": "python"
    }
  },
  "cells": [
    {
      "cell_type": "markdown",
      "metadata": {
        "id": "view-in-github",
        "colab_type": "text"
      },
      "source": [
        "<a href=\"https://colab.research.google.com/github/profteachkids/CHE3023/blob/main/CHE3023Syllabus.ipynb\" target=\"_parent\"><img src=\"https://colab.research.google.com/assets/colab-badge.svg\" alt=\"Open In Colab\"/></a>"
      ]
    },
    {
      "cell_type": "markdown",
      "metadata": {
        "id": "PiBxWvul6EEV"
      },
      "source": [
        "**CHE 3023 - Transport 2 Mass Transfer**\n",
        "\n",
        "Instructor: Carlos Co<br>\n",
        "email: carlos.co@uc.edu"
      ]
    },
    {
      "cell_type": "markdown",
      "metadata": {
        "id": "dQGhiM_o6477"
      },
      "source": [
        "##Textbook\n",
        "Jaime Benitez, “Principles and Modern Applications of Mass Transfer Operations” \n",
        "\n",
        "\n",
        "##Topics\n",
        "Fundamentals of Mass Transfer\n",
        "- Molecular Mass Transfer\n",
        "- Concentrations\n",
        "- Velocities and Fluxes\n",
        "- Maxwell-Stefan Relations\n",
        "- Fick’s Law for Binary Mixtures\n",
        "\n",
        "Diffusion Coefficient\n",
        "- Diffusion Coefficients for Ideal Gass Mixtures\n",
        "- Diffusion Coefficients for Liquids\n",
        "- Effective Diffusion Coefficients in Multicomponent Mixtures\n",
        "\n",
        "Steady-State Diffusion in Fluids\n",
        "- Molar Flux and Equation of Continuity\n",
        "- Steady State Diffusion in Gases\n",
        "- Steady State Diffusion in Liquids\n",
        "\n",
        "Momentum, Heat, and Mass Transfer Analogies\n",
        "- Convective Mass Transfer\n",
        "  - Mass Transfer Coefficients – Simplified Cases\n",
        "  - Diffusion of A Through Stagnant B\n",
        "- Equimolar Counter-diffusion\n",
        "- Buckingham Method for Dimensional Analysis\n",
        "- Mass and Heat Transfer Analogy\n",
        "- Wetted-Wall Columns\n",
        "\n",
        "Interphase Mass Transfer\n",
        "- Equilibrium\n",
        "- Diffusion Between Phases\n",
        "- Two-Resistance Theory\n",
        "- Overall Mass-Transfer Coefficients\n",
        "- Local Mass-Transfer Coefficients\n"
      ]
    },
    {
      "cell_type": "markdown",
      "metadata": {
        "id": "AMk2GUql-iaR"
      },
      "source": [
        "##Computational Emphasis\n",
        "\n",
        "WHAT IF?  Is a question an engineer should never stop asking.  Any calculation worth doing once in a real engineering situation, is inevitably repeated over and over again for different conditions.  Coding to automate calculations is therefore one of the most valuable engineering skills.  We will use Python intensively in this class using Google's Colaboratory Jupyter Notebook environment.  It is highly recommended for you to go through the following free online texts to brush up on your Python skills BEFORE our first class:\n",
        "\n",
        "https://jakevdp.github.io/WhirlwindTourOfPython/\n",
        "\n",
        "https://jakevdp.github.io/PythonDataScienceHandbook/\n",
        "\n",
        "https://colab.research.google.com/notebooks/intro.ipynb\n",
        "\n",
        "https://plotly.com/python/plotly-fundamentals/\n",
        "\n",
        "https://numpy.org/doc/stable/user/quickstart.html"
      ]
    },
    {
      "cell_type": "markdown",
      "metadata": {
        "id": "uCG99BF0_DOB"
      },
      "source": [
        "##Grading\n",
        "\n",
        "In the real world, there are no 2 hour exams.  While there are deadlines, no boss will prevent you from working extra at night or weekends on a project.  Success as an engineer comes from persistent attention to detail, hard work, desire to learn, and communication skills.\n",
        "\n",
        "Grading in this course will try to reflect this reality as closely as possible.  There will be HW problems (10%) and also 3 Exams (30% each) that will involve submission of Youtube videos where you present (without looking at notes) solution to problems and write Python code (live) to complete the calculations.<br>\n",
        "\n",
        "You will have approximately 1 week to complete each of these multipart videos submitted as YouTube playlists that would average between 30 to 45 minutes long.  Do note that because you are presenting on camera and not allowed to look at notes while you present and write the code, it will take many attempts to make a video worthy of submission.  Make your first recording attempt no later than the 2nd day after the Exam is assigned.  It will be much harder than you think - do not procrastinate.\n"
      ]
    }
  ]
}