{
  "nbformat": 4,
  "nbformat_minor": 0,
  "metadata": {
    "colab": {
      "name": "NRTL.ipynb",
      "provenance": [],
      "authorship_tag": "ABX9TyNM1YU2L2BxCeEe5iI0XzwT",
      "include_colab_link": true
    },
    "kernelspec": {
      "name": "python3",
      "display_name": "Python 3"
    },
    "language_info": {
      "name": "python"
    }
  },
  "cells": [
    {
      "cell_type": "markdown",
      "metadata": {
        "id": "view-in-github",
        "colab_type": "text"
      },
      "source": [
        "<a href=\"https://colab.research.google.com/github/profteachkids/CHE3023/blob/main/NRTL.ipynb\" target=\"_parent\"><img src=\"https://colab.research.google.com/assets/colab-badge.svg\" alt=\"Open In Colab\"/></a>"
      ]
    },
    {
      "cell_type": "code",
      "metadata": {
        "id": "dx5eVMN_wk7F"
      },
      "source": [
        "import jax.numpy as jnp\n",
        "import jax\n",
        "R=8.314"
      ],
      "execution_count": 40,
      "outputs": []
    },
    {
      "cell_type": "code",
      "metadata": {
        "id": "9WE3h_B9wnmi"
      },
      "source": [
        "# For the 3 component mixture: (1) Methanol, (2) Ethanol, and (3) Water system, \n",
        "# the matrices A, C, D are zeros, while B and alpha have been determined experimentally.\n",
        "B=jnp.array( [[   0.,   -155.5,   -24.49],\n",
        " [ 190.06,    0.,    -55.17],\n",
        " [ 307.17,  670.44,    0.  ]])\n",
        "\n",
        "alpha = jnp.array( [[0.,    0.305, 0.3  ],\n",
        " [0.305, 0.,    0.303],\n",
        " [0.3,   0.303, 0.   ]])"
      ],
      "execution_count": 26,
      "outputs": []
    },
    {
      "cell_type": "code",
      "metadata": {
        "id": "uCcmleR8yuKS"
      },
      "source": [
        "x12 = jnp.array([0.2,0.3])"
      ],
      "execution_count": 27,
      "outputs": []
    },
    {
      "cell_type": "code",
      "metadata": {
        "id": "ZmeTyuoS1a3P"
      },
      "source": [
        "def Gex(x,T):\n",
        "  tau = B/T\n",
        "  G = jnp.exp(-alpha * tau)\n",
        "  return jnp.dot(x, jnp.matmul(x,tau*G)/jnp.matmul(x,G))"
      ],
      "execution_count": 28,
      "outputs": []
    },
    {
      "cell_type": "code",
      "metadata": {
        "colab": {
          "base_uri": "https://localhost:8080/"
        },
        "id": "6xUkxrX_2WTE",
        "outputId": "c69cc1e1-27a5-46d6-b5db-45563b44fe8b"
      },
      "source": [
        "jnp.exp(jax.grad(Gex,0)(jnp.array([0.2,0.3,0.5]),300))"
      ],
      "execution_count": 29,
      "outputs": [
        {
          "output_type": "execute_result",
          "data": {
            "text/plain": [
              "DeviceArray([1.0061771, 1.335594 , 1.4216974], dtype=float32)"
            ]
          },
          "metadata": {
            "tags": []
          },
          "execution_count": 29
        }
      ]
    },
    {
      "cell_type": "code",
      "metadata": {
        "id": "ynr1DXaamwwM"
      },
      "source": [
        "def lngamma(x12,T):\n",
        "    x = jnp.append(x12,1- x12.sum())\n",
        "    tau = B/T\n",
        "    G = jnp.exp(-alpha * tau)\n",
        "    xG=jnp.matmul(x,G)\n",
        "    xtauGdivxG = jnp.matmul(x,tau * G) / xG\n",
        "    print(tau, xtauGdivxG)\n",
        "    lngamma = xtauGdivxG+jnp.matmul(G * (tau - xtauGdivxG), x/xG)\n",
        "    return lngamma"
      ],
      "execution_count": 38,
      "outputs": []
    },
    {
      "cell_type": "code",
      "metadata": {
        "id": "TgayiqGP9Cqb",
        "outputId": "af9bf5dc-e141-4f1e-f613-85f7be90e72b",
        "colab": {
          "base_uri": "https://localhost:8080/",
          "height": 171
        }
      },
      "source": [
        "tau"
      ],
      "execution_count": 37,
      "outputs": [
        {
          "output_type": "error",
          "ename": "NameError",
          "evalue": "ignored",
          "traceback": [
            "\u001b[0;31m---------------------------------------------------------------------------\u001b[0m",
            "\u001b[0;31mNameError\u001b[0m                                 Traceback (most recent call last)",
            "\u001b[0;32m<ipython-input-37-39102e45a543>\u001b[0m in \u001b[0;36m<module>\u001b[0;34m()\u001b[0m\n\u001b[0;32m----> 1\u001b[0;31m \u001b[0mtau\u001b[0m\u001b[0;34m\u001b[0m\u001b[0;34m\u001b[0m\u001b[0m\n\u001b[0m",
            "\u001b[0;31mNameError\u001b[0m: name 'tau' is not defined"
          ]
        }
      ]
    },
    {
      "cell_type": "code",
      "metadata": {
        "id": "zMCFbT463FHB",
        "outputId": "facb2b13-5222-4f9b-dc56-e3a9ab061c5d",
        "colab": {
          "base_uri": "https://localhost:8080/"
        }
      },
      "source": [
        "lngamma(x12,300)"
      ],
      "execution_count": 39,
      "outputs": [
        {
          "output_type": "stream",
          "text": [
            "[[ 0.         -0.5183333  -0.08163333]\n",
            " [ 0.6335333   0.         -0.1839    ]\n",
            " [ 1.0239      2.2348      0.        ]] [ 0.6542138   0.5661521  -0.07343629]\n"
          ],
          "name": "stdout"
        },
        {
          "output_type": "execute_result",
          "data": {
            "text/plain": [
              "DeviceArray([0.00615811, 0.2893762 , 0.3518515 ], dtype=float32)"
            ]
          },
          "metadata": {
            "tags": []
          },
          "execution_count": 39
        }
      ]
    },
    {
      "cell_type": "code",
      "metadata": {
        "id": "jA45wM8AnH1u"
      },
      "source": [
        "\n",
        "tfm = jnp.eye(2) + jnp.broadcast_to(x12,(2,2))*jax.jacobian(lngamma,0)(x12,300)[:2,:]"
      ],
      "execution_count": 32,
      "outputs": []
    },
    {
      "cell_type": "code",
      "metadata": {
        "id": "nHkteb063Xl3",
        "outputId": "d9e5604e-2f82-498f-ddf4-c35f99f96920",
        "colab": {
          "base_uri": "https://localhost:8080/"
        }
      },
      "source": [
        "tfm"
      ],
      "execution_count": 33,
      "outputs": [
        {
          "output_type": "execute_result",
          "data": {
            "text/plain": [
              "DeviceArray([[ 1.0089608 , -0.19754106],\n",
              "             [-0.22314115,  0.5773254 ]], dtype=float32)"
            ]
          },
          "metadata": {
            "tags": []
          },
          "execution_count": 33
        }
      ]
    },
    {
      "cell_type": "code",
      "metadata": {
        "id": "PcE9FAzp036y",
        "outputId": "16671794-21dd-4953-e25a-83d695c0de12",
        "colab": {
          "base_uri": "https://localhost:8080/"
        }
      },
      "source": [
        "dxdz = jnp.array([0.3,0.4])\n",
        "d = jnp.matmul(tfm,dxdz)\n",
        "d"
      ],
      "execution_count": 34,
      "outputs": [
        {
          "output_type": "execute_result",
          "data": {
            "text/plain": [
              "DeviceArray([0.22367185, 0.16398782], dtype=float32)"
            ]
          },
          "metadata": {
            "tags": []
          },
          "execution_count": 34
        }
      ]
    },
    {
      "cell_type": "code",
      "metadata": {
        "id": "Ka9_Tnns1hbB"
      },
      "source": [
        ""
      ],
      "execution_count": null,
      "outputs": []
    }
  ]
}