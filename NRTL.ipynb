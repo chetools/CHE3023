{
  "nbformat": 4,
  "nbformat_minor": 0,
  "metadata": {
    "colab": {
      "name": "NRTL.ipynb",
      "provenance": [],
      "authorship_tag": "ABX9TyNB2iUM8I3r2Hm/hIA6J98Q",
      "include_colab_link": true
    },
    "kernelspec": {
      "name": "python3",
      "display_name": "Python 3"
    },
    "language_info": {
      "name": "python"
    }
  },
  "cells": [
    {
      "cell_type": "markdown",
      "metadata": {
        "id": "view-in-github",
        "colab_type": "text"
      },
      "source": [
        "<a href=\"https://colab.research.google.com/github/profteachkids/CHE3023/blob/main/NRTL.ipynb\" target=\"_parent\"><img src=\"https://colab.research.google.com/assets/colab-badge.svg\" alt=\"Open In Colab\"/></a>"
      ]
    },
    {
      "cell_type": "code",
      "metadata": {
        "id": "tX4LQ_tlwh6G"
      },
      "source": [
        "!git clone --depth 1 https://github.com/profteachkids/CHE2064.git &> /dev/null\n",
        "!pip install DotMap &> /dev/null\n",
        "import sys\n",
        "sys.path.insert(1, \"/content/CHE2064\") #Path to CHE module imports"
      ],
      "execution_count": 1,
      "outputs": []
    },
    {
      "cell_type": "code",
      "metadata": {
        "id": "dx5eVMN_wk7F"
      },
      "source": [
        "import jax.numpy as jnp\n",
        "import jax\n",
        "import tools.che as che\n",
        "R=8.314"
      ],
      "execution_count": 49,
      "outputs": []
    },
    {
      "cell_type": "code",
      "metadata": {
        "id": "9WE3h_B9wnmi"
      },
      "source": [
        "p=che.Props(['Ethanol','Isopropanol','Water'])\n",
        "T=300\n",
        "x=jnp.array([1/3,1/3,1/3])"
      ],
      "execution_count": 18,
      "outputs": []
    },
    {
      "cell_type": "code",
      "metadata": {
        "id": "sCFtX4n2yaqS"
      },
      "source": [
        "tau = p.NRTL_A + p.NRTL_B/T + p.NRTL_C*jnp.log(T) + p.NRTL_D*T"
      ],
      "execution_count": 19,
      "outputs": []
    },
    {
      "cell_type": "code",
      "metadata": {
        "colab": {
          "base_uri": "https://localhost:8080/"
        },
        "id": "uCcmleR8yuKS",
        "outputId": "6bf45535-d9c8-4c7a-e0fc-e84f38baeff7"
      },
      "source": [
        "G = jnp.exp(-p.NRTL_alpha * tau)\n",
        "xG=jnp.matmul(x,G)\n",
        "xtauGdivxG = jnp.matmul(x,tau * G) / xG\n",
        "lngamma = xtauGdivxG+jnp.matmul(G * (tau - xtauGdivxG), x/xG)\n",
        "jnp.exp(lngamma)"
      ],
      "execution_count": 39,
      "outputs": [
        {
          "output_type": "execute_result",
          "data": {
            "text/plain": [
              "DeviceArray([1.11669551, 1.12519412, 1.85757473], dtype=float64)"
            ]
          },
          "metadata": {
            "tags": []
          },
          "execution_count": 39
        }
      ]
    },
    {
      "cell_type": "code",
      "metadata": {
        "id": "ZmeTyuoS1a3P"
      },
      "source": [
        "def Gex(x,T):\n",
        "  tau = p.NRTL_A + p.NRTL_B/T + p.NRTL_C*jnp.log(T) + p.NRTL_D*T\n",
        "  G = jnp.exp(-p.NRTL_alpha * tau)\n",
        "  return jnp.dot(x, jnp.matmul(x,tau*G)/jnp.matmul(x,G))"
      ],
      "execution_count": 62,
      "outputs": []
    },
    {
      "cell_type": "code",
      "metadata": {
        "colab": {
          "base_uri": "https://localhost:8080/"
        },
        "id": "6xUkxrX_2WTE",
        "outputId": "a1c4fd5e-d25e-4827-d18e-47fb81d8c5ce"
      },
      "source": [
        "jnp.exp(jax.grad(Gex,0)(x,T))"
      ],
      "execution_count": 64,
      "outputs": [
        {
          "output_type": "execute_result",
          "data": {
            "text/plain": [
              "DeviceArray([1.11669551, 1.12519412, 1.85757473], dtype=float64)"
            ]
          },
          "metadata": {
            "tags": []
          },
          "execution_count": 64
        }
      ]
    },
    {
      "cell_type": "code",
      "metadata": {
        "id": "99f55FUH4WSu"
      },
      "source": [
        ""
      ],
      "execution_count": null,
      "outputs": []
    }
  ]
}