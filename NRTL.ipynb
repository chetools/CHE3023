{
  "nbformat": 4,
  "nbformat_minor": 0,
  "metadata": {
    "colab": {
      "name": "NRTL.ipynb",
      "provenance": [],
      "authorship_tag": "ABX9TyOy+x6gOA3Df721dEWI2BmF",
      "include_colab_link": true
    },
    "kernelspec": {
      "name": "python3",
      "display_name": "Python 3"
    },
    "language_info": {
      "name": "python"
    }
  },
  "cells": [
    {
      "cell_type": "markdown",
      "metadata": {
        "id": "view-in-github",
        "colab_type": "text"
      },
      "source": [
        "<a href=\"https://colab.research.google.com/github/profteachkids/CHE3023/blob/main/NRTL.ipynb\" target=\"_parent\"><img src=\"https://colab.research.google.com/assets/colab-badge.svg\" alt=\"Open In Colab\"/></a>"
      ]
    },
    {
      "cell_type": "code",
      "metadata": {
        "id": "dx5eVMN_wk7F"
      },
      "source": [
        "import jax.numpy as jnp\n",
        "import jax\n",
        "R=8.314"
      ],
      "execution_count": 8,
      "outputs": []
    },
    {
      "cell_type": "code",
      "metadata": {
        "id": "9WE3h_B9wnmi"
      },
      "source": [
        "# For the 3 component mixture: (1) Methanol, (2) Ethanol, and (3) Water system, \n",
        "# the matrices A, C, D are zeros, while B and alpha have been determined experimentally.\n",
        "B=jnp.array( [[   0.,   -155.5,   -24.49],\n",
        " [ 190.06,    0.,    -55.17],\n",
        " [ 307.17,  670.44,    0.  ]])\n",
        "\n",
        "alpha = jnp.array( [[0.,    0.305, 0.3  ],\n",
        " [0.305, 0.,    0.303],\n",
        " [0.3,   0.303, 0.   ]])"
      ],
      "execution_count": 9,
      "outputs": []
    },
    {
      "cell_type": "code",
      "metadata": {
        "id": "uCcmleR8yuKS"
      },
      "source": [
        "x12 = jnp.array([0.2,0.3])"
      ],
      "execution_count": 10,
      "outputs": []
    },
    {
      "cell_type": "code",
      "metadata": {
        "id": "ZmeTyuoS1a3P"
      },
      "source": [
        "def Gex(x,T):\n",
        "  tau = B/T\n",
        "  G = jnp.exp(-alpha * tau)\n",
        "  return jnp.dot(x, jnp.matmul(x,tau*G)/jnp.matmul(x,G))"
      ],
      "execution_count": 11,
      "outputs": []
    },
    {
      "cell_type": "code",
      "metadata": {
        "colab": {
          "base_uri": "https://localhost:8080/"
        },
        "id": "6xUkxrX_2WTE",
        "outputId": "b4c45b16-8820-4489-f34c-aa5fd0960f6c"
      },
      "source": [
        "jnp.exp(jax.grad(Gex,0)(jnp.array([0.2,0.3,0.5]),300))"
      ],
      "execution_count": 12,
      "outputs": [
        {
          "output_type": "execute_result",
          "data": {
            "text/plain": [
              "DeviceArray([1.0061771, 1.335594 , 1.4216974], dtype=float32)"
            ]
          },
          "metadata": {},
          "execution_count": 12
        }
      ]
    },
    {
      "cell_type": "code",
      "metadata": {
        "id": "ynr1DXaamwwM"
      },
      "source": [
        "def lngamma(x12,T):\n",
        "    x = jnp.append(x12,1- x12.sum())\n",
        "    tau = B/T\n",
        "    G = jnp.exp(-alpha * tau)\n",
        "    xG=jnp.matmul(x,G)\n",
        "    xtauGdivxG = jnp.matmul(x,tau * G) / xG\n",
        "    print(tau, xtauGdivxG)\n",
        "    lngamma = xtauGdivxG+jnp.matmul(G * (tau - xtauGdivxG), x/xG)\n",
        "    return lngamma"
      ],
      "execution_count": 13,
      "outputs": []
    },
    {
      "cell_type": "code",
      "metadata": {
        "id": "zMCFbT463FHB",
        "outputId": "da07b556-de40-4923-cb39-4f2783cec38a",
        "colab": {
          "base_uri": "https://localhost:8080/"
        }
      },
      "source": [
        "lngamma(x12,300)"
      ],
      "execution_count": 14,
      "outputs": [
        {
          "output_type": "stream",
          "name": "stdout",
          "text": [
            "[[ 0.         -0.5183333  -0.08163333]\n",
            " [ 0.6335333   0.         -0.1839    ]\n",
            " [ 1.0239      2.2348      0.        ]] [ 0.6542138   0.5661521  -0.07343629]\n"
          ]
        },
        {
          "output_type": "execute_result",
          "data": {
            "text/plain": [
              "DeviceArray([0.00615811, 0.2893762 , 0.3518515 ], dtype=float32)"
            ]
          },
          "metadata": {},
          "execution_count": 14
        }
      ]
    },
    {
      "cell_type": "code",
      "metadata": {
        "id": "jA45wM8AnH1u",
        "outputId": "bf1a3971-d454-425b-b5ab-4915a4f40416",
        "colab": {
          "base_uri": "https://localhost:8080/"
        }
      },
      "source": [
        "\n",
        "tfm = jnp.eye(2) + jnp.broadcast_to(x12,(2,2))*jax.jacobian(lngamma,0)(x12,300)[:2,:]"
      ],
      "execution_count": 15,
      "outputs": [
        {
          "output_type": "stream",
          "name": "stdout",
          "text": [
            "[[ 0.         -0.5183333  -0.08163333]\n",
            " [ 0.6335333   0.         -0.1839    ]\n",
            " [ 1.0239      2.2348      0.        ]] Traced<ConcreteArray([ 0.6542138   0.5661521  -0.07343629], dtype=float32)>with<JVPTrace(level=2/0)> with\n",
            "  primal = DeviceArray([ 0.6542138 ,  0.5661521 , -0.07343629], dtype=float32)\n",
            "  tangent = Traced<ShapedArray(float32[3])>with<JaxprTrace(level=1/0)> with\n",
            "    pval = (ShapedArray(float32[3]), *)\n",
            "    recipe = JaxprEqnRecipe(eqn_id=<object object at 0x7f7a2555c640>, in_tracers=(Traced<ConcreteArray([0.8150511  0.78828764 1.0221496 ], dtype=float32):JaxprTrace(level=1/0)>, Traced<ConcreteArray([ 0.53321767  0.4462907  -0.07506287], dtype=float32):JaxprTrace(level=1/0)>, Traced<ConcreteArray([1.5053253  1.6092762  0.95713043], dtype=float32):JaxprTrace(level=1/0)>, Traced<ShapedArray(float32[3]):JaxprTrace(level=1/0)>, Traced<ShapedArray(float32[3]):JaxprTrace(level=1/0)>), out_tracer_refs=[<weakref at 0x7f7a116d9830; to 'JaxprTracer' at 0x7f7a117400b0>], out_avals=[ShapedArray(float32[3])], primitive=xla_call, params={'device': None, 'backend': None, 'name': 'jvp(true_divide)', 'donated_invars': (False, False, False, False, False), 'inline': True, 'call_jaxpr': { lambda ; a:f32[3] b:f32[3] c:f32[3] d:f32[3] e:f32[3]. let\n",
            "    f:f32[3] = div d a\n",
            "    g:f32[3] = neg e\n",
            "    h:f32[3] = mul g b\n",
            "    i:f32[3] = mul h c\n",
            "    j:f32[3] = add_any f i\n",
            "  in (j,) }}, effects=set(), source_info=SourceInfo(traceback=<jaxlib.xla_extension.Traceback object at 0x7f7a116f4b70>, name_stack=NameStack(stack=(Transform(name='jvp'),))))\n"
          ]
        }
      ]
    },
    {
      "cell_type": "code",
      "metadata": {
        "id": "nHkteb063Xl3",
        "outputId": "79f1dfa3-ce34-4c77-8b1a-182259740055",
        "colab": {
          "base_uri": "https://localhost:8080/"
        }
      },
      "source": [
        "tfm"
      ],
      "execution_count": 16,
      "outputs": [
        {
          "output_type": "execute_result",
          "data": {
            "text/plain": [
              "DeviceArray([[ 1.0089608 , -0.19754106],\n",
              "             [-0.22314115,  0.5773254 ]], dtype=float32)"
            ]
          },
          "metadata": {},
          "execution_count": 16
        }
      ]
    },
    {
      "cell_type": "code",
      "metadata": {
        "id": "PcE9FAzp036y",
        "outputId": "b6e675b5-3d8d-4943-fb7f-fcc64e9e0117",
        "colab": {
          "base_uri": "https://localhost:8080/"
        }
      },
      "source": [
        "dxdz = jnp.array([0.3,0.4])\n",
        "d = jnp.matmul(tfm,dxdz)\n",
        "d"
      ],
      "execution_count": 17,
      "outputs": [
        {
          "output_type": "execute_result",
          "data": {
            "text/plain": [
              "DeviceArray([0.22367185, 0.16398782], dtype=float32)"
            ]
          },
          "metadata": {},
          "execution_count": 17
        }
      ]
    },
    {
      "cell_type": "code",
      "metadata": {
        "id": "Ka9_Tnns1hbB"
      },
      "source": [
        ""
      ],
      "execution_count": 17,
      "outputs": []
    }
  ]
}