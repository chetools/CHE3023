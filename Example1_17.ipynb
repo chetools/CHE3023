{
  "nbformat": 4,
  "nbformat_minor": 0,
  "metadata": {
    "colab": {
      "name": "Example1_17.ipynb",
      "provenance": [],
      "authorship_tag": "ABX9TyNFMIH9I6lHHtmvDXRn5/O+",
      "include_colab_link": true
    },
    "kernelspec": {
      "name": "python3",
      "display_name": "Python 3"
    },
    "language_info": {
      "name": "python"
    }
  },
  "cells": [
    {
      "cell_type": "markdown",
      "metadata": {
        "id": "view-in-github",
        "colab_type": "text"
      },
      "source": [
        "<a href=\"https://colab.research.google.com/github/profteachkids/CHE3023/blob/main/Example1_17.ipynb\" target=\"_parent\"><img src=\"https://colab.research.google.com/assets/colab-badge.svg\" alt=\"Open In Colab\"/></a>"
      ]
    },
    {
      "cell_type": "code",
      "metadata": {
        "id": "3mnmScNo_nZi"
      },
      "source": [
        "import numpy as np\n",
        "from scipy.integrate import solve_ivp\n",
        "from scipy.optimize import root\n",
        "from plotly.subplots import make_subplots\n",
        "import plotly.graph_objects as go\n",
        "import plotly.io as pio\n",
        "pio.templates.default='plotly_dark'"
      ],
      "execution_count": 2,
      "outputs": []
    },
    {
      "cell_type": "code",
      "metadata": {
        "id": "ai07g2U3zBPU"
      },
      "source": [
        "D12=8.48e-6  # m2/s\n",
        "D13=13.72e-6\n",
        "D23 = 19.91e-6\n",
        "P=99.4e3  #Pa\n",
        "T=328.5 #K\n",
        "R=8.314 #J/(mol K)\n",
        "c=P/(R*T)\n",
        "delta=0.24\n",
        "F12=c*D12/delta\n",
        "F13=c*D13/delta\n",
        "F23=c*D23/delta\n",
        "N1i=1e-3\n",
        "N2i=1e-3\n",
        "y1i=0.319\n",
        "y2i=0.528"
      ],
      "execution_count": 3,
      "outputs": []
    },
    {
      "cell_type": "code",
      "metadata": {
        "id": "Nin5Jd2yzEie"
      },
      "source": [
        "def f(N):\n",
        "\n",
        "    N1=N[0]\n",
        "    N2=N[1]\n",
        "    def dy(eta, y):\n",
        "        y1=y[0]\n",
        "        y2=y[1]\n",
        "        y3=(1-y1-y2)\n",
        "        return np.array([(y1*N2-y2*N1)/F12 -y3*N1/F13,\n",
        "                    (y2*N1-y1*N2)/F12 - y3*N2/F23])\n",
        "\n",
        "\n",
        "    res=solve_ivp(dy,(0,1),(y1i, y2i),method='Radau',dense_output=True)\n",
        "    return res.sol(1)\n"
      ],
      "execution_count": 9,
      "outputs": []
    },
    {
      "cell_type": "code",
      "metadata": {
        "id": "L1SBF_6kC-ZW"
      },
      "source": [
        "res=root(f,[N1i,N2i])\n",
        "N1=res.x[0]\n",
        "N2=res.x[1]\n",
        "def dy(eta, y):\n",
        "    y1=y[0]\n",
        "    y2=y[1]\n",
        "    y3=(1-y1-y2)\n",
        "    return np.array([(y1*N2-y2*N1)/F12 -y3*N1/F13,\n",
        "                (y2*N1-y1*N2)/F12 - y3*N2/F23])\n",
        "\n",
        "\n",
        "res=solve_ivp(dy,(0,1),(y1i, y2i),method='Radau',dense_output=True)"
      ],
      "execution_count": 21,
      "outputs": []
    },
    {
      "cell_type": "code",
      "metadata": {
        "id": "gnOvgP_nHtl6"
      },
      "source": [
        "eta_plot=np.linspace(0,1,51)\n",
        "sol=res.sol(eta_plot)"
      ],
      "execution_count": 30,
      "outputs": []
    },
    {
      "cell_type": "code",
      "metadata": {
        "colab": {
          "base_uri": "https://localhost:8080/",
          "height": 542
        },
        "id": "EbJRc9Ms6pE7",
        "outputId": "1af6bd90-01b7-43d5-a493-5a8e742de4db"
      },
      "source": [
        "fig=make_subplots(rows=1,cols=1)\n",
        "fig.add_trace(go.Scatter(x=eta_plot*delta,y=sol[0],name='acetone'))\n",
        "fig.add_trace(go.Scatter(x=eta_plot*delta,y=sol[1],name='methanol'))\n",
        "fig.add_trace(go.Scatter(x=eta_plot*delta,y=1-sol[0]-sol[1],name='air'))"
      ],
      "execution_count": 34,
      "outputs": [
        {
          "output_type": "display_data",
          "data": {
            "text/html": [
              "<html>\n",
              "<head><meta charset=\"utf-8\" /></head>\n",
              "<body>\n",
              "    <div>\n",
              "            <script src=\"https://cdnjs.cloudflare.com/ajax/libs/mathjax/2.7.5/MathJax.js?config=TeX-AMS-MML_SVG\"></script><script type=\"text/javascript\">if (window.MathJax) {MathJax.Hub.Config({SVG: {font: \"STIX-Web\"}});}</script>\n",
              "                <script type=\"text/javascript\">window.PlotlyConfig = {MathJaxConfig: 'local'};</script>\n",
              "        <script src=\"https://cdn.plot.ly/plotly-latest.min.js\"></script>    \n",
              "            <div id=\"aeefd04b-ef25-4395-99be-f5a48aead46b\" class=\"plotly-graph-div\" style=\"height:525px; width:100%;\"></div>\n",
              "            <script type=\"text/javascript\">\n",
              "                \n",
              "                    window.PLOTLYENV=window.PLOTLYENV || {};\n",
              "                    \n",
              "                if (document.getElementById(\"aeefd04b-ef25-4395-99be-f5a48aead46b\")) {\n",
              "                    Plotly.newPlot(\n",
              "                        'aeefd04b-ef25-4395-99be-f5a48aead46b',\n",
              "                        [{\"name\": \"acetone\", \"type\": \"scatter\", \"x\": [0.0, 0.0048, 0.0096, 0.0144, 0.0192, 0.024, 0.0288, 0.033600000000000005, 0.0384, 0.043199999999999995, 0.048, 0.0528, 0.0576, 0.0624, 0.06720000000000001, 0.072, 0.0768, 0.0816, 0.08639999999999999, 0.0912, 0.096, 0.10079999999999999, 0.1056, 0.1104, 0.1152, 0.12, 0.1248, 0.1296, 0.13440000000000002, 0.1392, 0.144, 0.1488, 0.1536, 0.1584, 0.1632, 0.168, 0.17279999999999998, 0.17759999999999998, 0.1824, 0.1872, 0.192, 0.1968, 0.20159999999999997, 0.2064, 0.2112, 0.216, 0.2208, 0.2256, 0.2304, 0.2352, 0.24], \"y\": [0.319, 0.31723354066170234, 0.31539318355873563, 0.3134755337916708, 0.3114723014369176, 0.3093874092467246, 0.30721698108653267, 0.3049557598941613, 0.3025984886074301, 0.3001399101641586, 0.2975747675021664, 0.294897803559273, 0.2921037612732979, 0.28918738358206075, 0.2861434134233811, 0.28296659373507843, 0.27961782304214694, 0.2761325091231538, 0.2725090331442814, 0.26873556693024386, 0.26480028230575553, 0.26069135109553077, 0.2563969451242838, 0.25190523621672883, 0.24720439619758028, 0.24228259689155232, 0.23712801012335927, 0.23172880771771542, 0.22607316149933504, 0.22014924329293242, 0.21394522492322182, 0.20744927821491754, 0.2006470380750752, 0.19352042227089303, 0.18605302345190308, 0.17822308078867607, 0.1700088334517828, 0.16138852061179393, 0.1523403814392802, 0.14283005162090645, 0.13284240525044735, 0.12236816768839275, 0.11136988244433405, 0.09981009302786248, 0.08765134294856952, 0.07485617571604654, 0.061387134839884894, 0.047206763829675966, 0.03227760619501123, 0.016559565011326917, -3.138496407206759e-13]}, {\"name\": \"methanol\", \"type\": \"scatter\", \"x\": [0.0, 0.0048, 0.0096, 0.0144, 0.0192, 0.024, 0.0288, 0.033600000000000005, 0.0384, 0.043199999999999995, 0.048, 0.0528, 0.0576, 0.0624, 0.06720000000000001, 0.072, 0.0768, 0.0816, 0.08639999999999999, 0.0912, 0.096, 0.10079999999999999, 0.1056, 0.1104, 0.1152, 0.12, 0.1248, 0.1296, 0.13440000000000002, 0.1392, 0.144, 0.1488, 0.1536, 0.1584, 0.1632, 0.168, 0.17279999999999998, 0.17759999999999998, 0.1824, 0.1872, 0.192, 0.1968, 0.20159999999999997, 0.2064, 0.2112, 0.216, 0.2208, 0.2256, 0.2304, 0.2352, 0.24], \"y\": [0.528, 0.5239126767681085, 0.5196753494026003, 0.5152827123545742, 0.5107262841490111, 0.5060055838058752, 0.5011147549143514, 0.4960470238221361, 0.4907956168769256, 0.48535376042641604, 0.4797146808183039, 0.47387160440028536, 0.4678177575200568, 0.46154636652531444, 0.45505065776375464, 0.4483238575830737, 0.4413536026282823, 0.4341393433100429, 0.4266736305680984, 0.4189472973915702, 0.4109511767695795, 0.4026761016912477, 0.3941129051456959, 0.38525242012204547, 0.3760854796094178, 0.366602916596934, 0.3567955640737155, 0.3466542550288834, 0.3361698224515592, 0.32533309933086413, 0.3141349186559193, 0.30256611341584616, 0.29061766428431546, 0.27827887619152075, 0.2655392823160314, 0.2523894913385795, 0.2388201119398974, 0.2248217528007172, 0.2103850226017712, 0.19550455922974372, 0.18016837553057283, 0.1643618105904792, 0.148079148003101, 0.13131467136207614, 0.11406266426104272, 0.09631741029363883, 0.07807319305350251, 0.05932429613427179, 0.040065003129584886, 0.020290454185978076, 3.0962038488624444e-13]}, {\"name\": \"air\", \"type\": \"scatter\", \"x\": [0.0, 0.0048, 0.0096, 0.0144, 0.0192, 0.024, 0.0288, 0.033600000000000005, 0.0384, 0.043199999999999995, 0.048, 0.0528, 0.0576, 0.0624, 0.06720000000000001, 0.072, 0.0768, 0.0816, 0.08639999999999999, 0.0912, 0.096, 0.10079999999999999, 0.1056, 0.1104, 0.1152, 0.12, 0.1248, 0.1296, 0.13440000000000002, 0.1392, 0.144, 0.1488, 0.1536, 0.1584, 0.1632, 0.168, 0.17279999999999998, 0.17759999999999998, 0.1824, 0.1872, 0.192, 0.1968, 0.20159999999999997, 0.2064, 0.2112, 0.216, 0.2208, 0.2256, 0.2304, 0.2352, 0.24], \"y\": [0.15300000000000002, 0.15885378257018912, 0.16493146703866413, 0.17124175385375495, 0.17780141441407127, 0.18460700694740018, 0.19166826399911596, 0.19899721628370265, 0.20660589451564432, 0.21450632940942532, 0.22271055167952974, 0.23123059204044166, 0.24007848120664527, 0.2492662498926248, 0.25880592881286424, 0.2687095486818478, 0.2790285743295708, 0.2897281475668033, 0.30081733628762014, 0.312317135678186, 0.32424854092466493, 0.33663254721322156, 0.3494901497300203, 0.36284234366122564, 0.3767101241930019, 0.3911144865115137, 0.40607642580292524, 0.42161693725340116, 0.43775701604910583, 0.4545176573762035, 0.4719198564208588, 0.4899846083692363, 0.5087352976406093, 0.5282007015375862, 0.5484076942320655, 0.5693874278727444, 0.5911710546083198, 0.6137897265874888, 0.6372745959589486, 0.6616653891493498, 0.6869892192189798, 0.7132700217211281, 0.7405509695525649, 0.7688752356100614, 0.7982859927903878, 0.8288264139903146, 0.8605396721066126, 0.8934689400360523, 0.927657390675404, 0.963149980802695, 1.0000000000000042]}],\n",
              "                        {\"template\": {\"data\": {\"bar\": [{\"error_x\": {\"color\": \"#f2f5fa\"}, \"error_y\": {\"color\": \"#f2f5fa\"}, \"marker\": {\"line\": {\"color\": \"rgb(17,17,17)\", \"width\": 0.5}}, \"type\": \"bar\"}], \"barpolar\": [{\"marker\": {\"line\": {\"color\": \"rgb(17,17,17)\", \"width\": 0.5}}, \"type\": \"barpolar\"}], \"carpet\": [{\"aaxis\": {\"endlinecolor\": \"#A2B1C6\", \"gridcolor\": \"#506784\", \"linecolor\": \"#506784\", \"minorgridcolor\": \"#506784\", \"startlinecolor\": \"#A2B1C6\"}, \"baxis\": {\"endlinecolor\": \"#A2B1C6\", \"gridcolor\": \"#506784\", \"linecolor\": \"#506784\", \"minorgridcolor\": \"#506784\", \"startlinecolor\": \"#A2B1C6\"}, \"type\": \"carpet\"}], \"choropleth\": [{\"colorbar\": {\"outlinewidth\": 0, \"ticks\": \"\"}, \"type\": \"choropleth\"}], \"contour\": [{\"colorbar\": {\"outlinewidth\": 0, \"ticks\": \"\"}, \"colorscale\": [[0.0, \"#0d0887\"], [0.1111111111111111, \"#46039f\"], [0.2222222222222222, \"#7201a8\"], [0.3333333333333333, \"#9c179e\"], [0.4444444444444444, \"#bd3786\"], [0.5555555555555556, \"#d8576b\"], [0.6666666666666666, \"#ed7953\"], [0.7777777777777778, \"#fb9f3a\"], [0.8888888888888888, \"#fdca26\"], [1.0, \"#f0f921\"]], \"type\": \"contour\"}], \"contourcarpet\": [{\"colorbar\": {\"outlinewidth\": 0, \"ticks\": \"\"}, \"type\": \"contourcarpet\"}], \"heatmap\": [{\"colorbar\": {\"outlinewidth\": 0, \"ticks\": \"\"}, \"colorscale\": [[0.0, \"#0d0887\"], [0.1111111111111111, \"#46039f\"], [0.2222222222222222, \"#7201a8\"], [0.3333333333333333, \"#9c179e\"], [0.4444444444444444, \"#bd3786\"], [0.5555555555555556, \"#d8576b\"], [0.6666666666666666, \"#ed7953\"], [0.7777777777777778, \"#fb9f3a\"], [0.8888888888888888, \"#fdca26\"], [1.0, \"#f0f921\"]], \"type\": \"heatmap\"}], \"heatmapgl\": [{\"colorbar\": {\"outlinewidth\": 0, \"ticks\": \"\"}, \"colorscale\": [[0.0, \"#0d0887\"], [0.1111111111111111, \"#46039f\"], [0.2222222222222222, \"#7201a8\"], [0.3333333333333333, \"#9c179e\"], [0.4444444444444444, \"#bd3786\"], [0.5555555555555556, \"#d8576b\"], [0.6666666666666666, \"#ed7953\"], [0.7777777777777778, \"#fb9f3a\"], [0.8888888888888888, \"#fdca26\"], [1.0, \"#f0f921\"]], \"type\": \"heatmapgl\"}], \"histogram\": [{\"marker\": {\"colorbar\": {\"outlinewidth\": 0, \"ticks\": \"\"}}, \"type\": \"histogram\"}], \"histogram2d\": [{\"colorbar\": {\"outlinewidth\": 0, \"ticks\": \"\"}, \"colorscale\": [[0.0, \"#0d0887\"], [0.1111111111111111, \"#46039f\"], [0.2222222222222222, \"#7201a8\"], [0.3333333333333333, \"#9c179e\"], [0.4444444444444444, \"#bd3786\"], [0.5555555555555556, \"#d8576b\"], [0.6666666666666666, \"#ed7953\"], [0.7777777777777778, \"#fb9f3a\"], [0.8888888888888888, \"#fdca26\"], [1.0, \"#f0f921\"]], \"type\": \"histogram2d\"}], \"histogram2dcontour\": [{\"colorbar\": {\"outlinewidth\": 0, \"ticks\": \"\"}, \"colorscale\": [[0.0, \"#0d0887\"], [0.1111111111111111, \"#46039f\"], [0.2222222222222222, \"#7201a8\"], [0.3333333333333333, \"#9c179e\"], [0.4444444444444444, \"#bd3786\"], [0.5555555555555556, \"#d8576b\"], [0.6666666666666666, \"#ed7953\"], [0.7777777777777778, \"#fb9f3a\"], [0.8888888888888888, \"#fdca26\"], [1.0, \"#f0f921\"]], \"type\": \"histogram2dcontour\"}], \"mesh3d\": [{\"colorbar\": {\"outlinewidth\": 0, \"ticks\": \"\"}, \"type\": \"mesh3d\"}], \"parcoords\": [{\"line\": {\"colorbar\": {\"outlinewidth\": 0, \"ticks\": \"\"}}, \"type\": \"parcoords\"}], \"pie\": [{\"automargin\": true, \"type\": \"pie\"}], \"scatter\": [{\"marker\": {\"line\": {\"color\": \"#283442\"}}, \"type\": \"scatter\"}], \"scatter3d\": [{\"line\": {\"colorbar\": {\"outlinewidth\": 0, \"ticks\": \"\"}}, \"marker\": {\"colorbar\": {\"outlinewidth\": 0, \"ticks\": \"\"}}, \"type\": \"scatter3d\"}], \"scattercarpet\": [{\"marker\": {\"colorbar\": {\"outlinewidth\": 0, \"ticks\": \"\"}}, \"type\": \"scattercarpet\"}], \"scattergeo\": [{\"marker\": {\"colorbar\": {\"outlinewidth\": 0, \"ticks\": \"\"}}, \"type\": \"scattergeo\"}], \"scattergl\": [{\"marker\": {\"line\": {\"color\": \"#283442\"}}, \"type\": \"scattergl\"}], \"scattermapbox\": [{\"marker\": {\"colorbar\": {\"outlinewidth\": 0, \"ticks\": \"\"}}, \"type\": \"scattermapbox\"}], \"scatterpolar\": [{\"marker\": {\"colorbar\": {\"outlinewidth\": 0, \"ticks\": \"\"}}, \"type\": \"scatterpolar\"}], \"scatterpolargl\": [{\"marker\": {\"colorbar\": {\"outlinewidth\": 0, \"ticks\": \"\"}}, \"type\": \"scatterpolargl\"}], \"scatterternary\": [{\"marker\": {\"colorbar\": {\"outlinewidth\": 0, \"ticks\": \"\"}}, \"type\": \"scatterternary\"}], \"surface\": [{\"colorbar\": {\"outlinewidth\": 0, \"ticks\": \"\"}, \"colorscale\": [[0.0, \"#0d0887\"], [0.1111111111111111, \"#46039f\"], [0.2222222222222222, \"#7201a8\"], [0.3333333333333333, \"#9c179e\"], [0.4444444444444444, \"#bd3786\"], [0.5555555555555556, \"#d8576b\"], [0.6666666666666666, \"#ed7953\"], [0.7777777777777778, \"#fb9f3a\"], [0.8888888888888888, \"#fdca26\"], [1.0, \"#f0f921\"]], \"type\": \"surface\"}], \"table\": [{\"cells\": {\"fill\": {\"color\": \"#506784\"}, \"line\": {\"color\": \"rgb(17,17,17)\"}}, \"header\": {\"fill\": {\"color\": \"#2a3f5f\"}, \"line\": {\"color\": \"rgb(17,17,17)\"}}, \"type\": \"table\"}]}, \"layout\": {\"annotationdefaults\": {\"arrowcolor\": \"#f2f5fa\", \"arrowhead\": 0, \"arrowwidth\": 1}, \"coloraxis\": {\"colorbar\": {\"outlinewidth\": 0, \"ticks\": \"\"}}, \"colorscale\": {\"diverging\": [[0, \"#8e0152\"], [0.1, \"#c51b7d\"], [0.2, \"#de77ae\"], [0.3, \"#f1b6da\"], [0.4, \"#fde0ef\"], [0.5, \"#f7f7f7\"], [0.6, \"#e6f5d0\"], [0.7, \"#b8e186\"], [0.8, \"#7fbc41\"], [0.9, \"#4d9221\"], [1, \"#276419\"]], \"sequential\": [[0.0, \"#0d0887\"], [0.1111111111111111, \"#46039f\"], [0.2222222222222222, \"#7201a8\"], [0.3333333333333333, \"#9c179e\"], [0.4444444444444444, \"#bd3786\"], [0.5555555555555556, \"#d8576b\"], [0.6666666666666666, \"#ed7953\"], [0.7777777777777778, \"#fb9f3a\"], [0.8888888888888888, \"#fdca26\"], [1.0, \"#f0f921\"]], \"sequentialminus\": [[0.0, \"#0d0887\"], [0.1111111111111111, \"#46039f\"], [0.2222222222222222, \"#7201a8\"], [0.3333333333333333, \"#9c179e\"], [0.4444444444444444, \"#bd3786\"], [0.5555555555555556, \"#d8576b\"], [0.6666666666666666, \"#ed7953\"], [0.7777777777777778, \"#fb9f3a\"], [0.8888888888888888, \"#fdca26\"], [1.0, \"#f0f921\"]]}, \"colorway\": [\"#636efa\", \"#EF553B\", \"#00cc96\", \"#ab63fa\", \"#FFA15A\", \"#19d3f3\", \"#FF6692\", \"#B6E880\", \"#FF97FF\", \"#FECB52\"], \"font\": {\"color\": \"#f2f5fa\"}, \"geo\": {\"bgcolor\": \"rgb(17,17,17)\", \"lakecolor\": \"rgb(17,17,17)\", \"landcolor\": \"rgb(17,17,17)\", \"showlakes\": true, \"showland\": true, \"subunitcolor\": \"#506784\"}, \"hoverlabel\": {\"align\": \"left\"}, \"hovermode\": \"closest\", \"mapbox\": {\"style\": \"dark\"}, \"paper_bgcolor\": \"rgb(17,17,17)\", \"plot_bgcolor\": \"rgb(17,17,17)\", \"polar\": {\"angularaxis\": {\"gridcolor\": \"#506784\", \"linecolor\": \"#506784\", \"ticks\": \"\"}, \"bgcolor\": \"rgb(17,17,17)\", \"radialaxis\": {\"gridcolor\": \"#506784\", \"linecolor\": \"#506784\", \"ticks\": \"\"}}, \"scene\": {\"xaxis\": {\"backgroundcolor\": \"rgb(17,17,17)\", \"gridcolor\": \"#506784\", \"gridwidth\": 2, \"linecolor\": \"#506784\", \"showbackground\": true, \"ticks\": \"\", \"zerolinecolor\": \"#C8D4E3\"}, \"yaxis\": {\"backgroundcolor\": \"rgb(17,17,17)\", \"gridcolor\": \"#506784\", \"gridwidth\": 2, \"linecolor\": \"#506784\", \"showbackground\": true, \"ticks\": \"\", \"zerolinecolor\": \"#C8D4E3\"}, \"zaxis\": {\"backgroundcolor\": \"rgb(17,17,17)\", \"gridcolor\": \"#506784\", \"gridwidth\": 2, \"linecolor\": \"#506784\", \"showbackground\": true, \"ticks\": \"\", \"zerolinecolor\": \"#C8D4E3\"}}, \"shapedefaults\": {\"line\": {\"color\": \"#f2f5fa\"}}, \"sliderdefaults\": {\"bgcolor\": \"#C8D4E3\", \"bordercolor\": \"rgb(17,17,17)\", \"borderwidth\": 1, \"tickwidth\": 0}, \"ternary\": {\"aaxis\": {\"gridcolor\": \"#506784\", \"linecolor\": \"#506784\", \"ticks\": \"\"}, \"baxis\": {\"gridcolor\": \"#506784\", \"linecolor\": \"#506784\", \"ticks\": \"\"}, \"bgcolor\": \"rgb(17,17,17)\", \"caxis\": {\"gridcolor\": \"#506784\", \"linecolor\": \"#506784\", \"ticks\": \"\"}}, \"title\": {\"x\": 0.05}, \"updatemenudefaults\": {\"bgcolor\": \"#506784\", \"borderwidth\": 0}, \"xaxis\": {\"automargin\": true, \"gridcolor\": \"#283442\", \"linecolor\": \"#506784\", \"ticks\": \"\", \"title\": {\"standoff\": 15}, \"zerolinecolor\": \"#283442\", \"zerolinewidth\": 2}, \"yaxis\": {\"automargin\": true, \"gridcolor\": \"#283442\", \"linecolor\": \"#506784\", \"ticks\": \"\", \"title\": {\"standoff\": 15}, \"zerolinecolor\": \"#283442\", \"zerolinewidth\": 2}}}, \"xaxis\": {\"anchor\": \"y\", \"domain\": [0.0, 1.0]}, \"yaxis\": {\"anchor\": \"x\", \"domain\": [0.0, 1.0]}},\n",
              "                        {\"responsive\": true}\n",
              "                    ).then(function(){\n",
              "                            \n",
              "var gd = document.getElementById('aeefd04b-ef25-4395-99be-f5a48aead46b');\n",
              "var x = new MutationObserver(function (mutations, observer) {{\n",
              "        var display = window.getComputedStyle(gd).display;\n",
              "        if (!display || display === 'none') {{\n",
              "            console.log([gd, 'removed!']);\n",
              "            Plotly.purge(gd);\n",
              "            observer.disconnect();\n",
              "        }}\n",
              "}});\n",
              "\n",
              "// Listen for the removal of the full notebook cells\n",
              "var notebookContainer = gd.closest('#notebook-container');\n",
              "if (notebookContainer) {{\n",
              "    x.observe(notebookContainer, {childList: true});\n",
              "}}\n",
              "\n",
              "// Listen for the clearing of the current output cell\n",
              "var outputEl = gd.closest('.output');\n",
              "if (outputEl) {{\n",
              "    x.observe(outputEl, {childList: true});\n",
              "}}\n",
              "\n",
              "                        })\n",
              "                };\n",
              "                \n",
              "            </script>\n",
              "        </div>\n",
              "</body>\n",
              "</html>"
            ]
          },
          "metadata": {
            "tags": []
          }
        }
      ]
    },
    {
      "cell_type": "code",
      "metadata": {
        "id": "jVnq5bPlHnt5"
      },
      "source": [
        ""
      ],
      "execution_count": null,
      "outputs": []
    }
  ]
}