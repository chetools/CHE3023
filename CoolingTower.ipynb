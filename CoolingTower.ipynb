{
  "nbformat": 4,
  "nbformat_minor": 0,
  "metadata": {
    "colab": {
      "name": "CoolingTower.ipynb",
      "provenance": [],
      "collapsed_sections": [],
      "authorship_tag": "ABX9TyNpQFkLKAwmsH4/Atq2sThP",
      "include_colab_link": true
    },
    "kernelspec": {
      "name": "python3",
      "display_name": "Python 3"
    }
  },
  "cells": [
    {
      "cell_type": "markdown",
      "metadata": {
        "id": "view-in-github",
        "colab_type": "text"
      },
      "source": [
        "<a href=\"https://colab.research.google.com/github/profteachkids/CHE3023/blob/main/CoolingTower.ipynb\" target=\"_parent\"><img src=\"https://colab.research.google.com/assets/colab-badge.svg\" alt=\"Open In Colab\"/></a>"
      ]
    },
    {
      "cell_type": "code",
      "metadata": {
        "id": "lGdEFN-JfnZ3"
      },
      "source": [
        "import numpy as np\n",
        "from scipy.integrate import solve_ivp\n",
        "from plotly.subplots import make_subplots\n",
        "import plotly.io as pio\n",
        "pio.templates.default='plotly_dark'\n",
        "from scipy.optimize import newton, root\n"
      ],
      "execution_count": 10,
      "outputs": []
    },
    {
      "cell_type": "code",
      "metadata": {
        "id": "cOplERIPik75"
      },
      "source": [
        "h = 10\n",
        "R = 8.314\n",
        "Cpair = 1e3\n",
        "rhoa = 1.2\n",
        "Cpwv = 2000\n",
        "Cpw = 4190\n",
        "kc = h/(rhoa*Cpair)\n",
        "Hv = 40700 #J/mol\n",
        "\n",
        "a = 5 \n",
        "Ma = 29e-3 \n",
        "Mw = 18e-3\n",
        "\n",
        "Lw = 0.5\n",
        "vel = 5 \n",
        "P=101325\n",
        "\n",
        "def Pv(T):\n",
        "  return (10**(8.07131 - 1730.63/(233.426+(T-273.15))))/760*101325\n",
        "\n",
        "TaFeed = 25 + 273.15\n",
        "yFeed = Pv(TaFeed)*0.5/P\n",
        "\n",
        "TaExit_guess = TaFeed+5.\n",
        "yExit_guess = yFeed*1.1\n",
        "\n",
        "TwFeed = 70 + 273.15\n",
        "Ga = vel * P*Ma/(R*TaFeed)\n",
        "zend = 20\n",
        "z=np.linspace(0, zend, 50)\n",
        "sol=None"
      ],
      "execution_count": 46,
      "outputs": []
    },
    {
      "cell_type": "code",
      "metadata": {
        "id": "XgenBxDNsThj"
      },
      "source": [
        "def converge(v1):\n",
        "  TaExit = v1[0]\n",
        "  yExit = v1[1]  \n",
        "  global sol\n",
        "  def dv(z,v2):\n",
        "    y=v2[0]\n",
        "    Tw=v2[1]\n",
        "    Ta=v2[2]\n",
        "\n",
        "    Gw = y/(1-y)*Mw/Ma * Ga\n",
        "    G = Ga + Gw\n",
        "    Cpa = (Cpair*Ga +  Cpwv*Gw)/G\n",
        "  \n",
        "    M = (Gw + Ga)/(Gw/Mw + Ga/Ma) \n",
        "    Cwi = Pv(Tw)/R/Tw\n",
        "    Nw = kc*(Cwi - y*P/(R*Ta))\n",
        "    dydz = -a*M/G * (Nw)\n",
        "    dTwdz = a/Lw/Cpw*(h*(Ta-Tw)-Hv*Nw)\n",
        "    dTadz = a/G/Cpa*(h*(Ta-Tw))\n",
        "\n",
        "    return dydz, dTwdz, dTadz\n",
        "  res = solve_ivp(dv, (0,zend), (yExit, TwFeed, TaExit),\n",
        "                  method='Radau', dense_output=True)\n",
        "  sol = res.sol(z)\n",
        "  return sol[0,-1]-yFeed, sol[2:,-1]-TaFeed"
      ],
      "execution_count": 47,
      "outputs": []
    },
    {
      "cell_type": "code",
      "metadata": {
        "colab": {
          "base_uri": "https://localhost:8080/"
        },
        "id": "_D7lTjlyH57n",
        "outputId": "4d73a77f-9869-4d74-d4da-c0769895ec34"
      },
      "source": [
        "converge((TaExit_guess, yExit_guess))"
      ],
      "execution_count": 48,
      "outputs": [
        {
          "output_type": "execute_result",
          "data": {
            "text/plain": [
              "(-0.008765546681691048, array([3.49819343]))"
            ]
          },
          "metadata": {
            "tags": []
          },
          "execution_count": 48
        }
      ]
    },
    {
      "cell_type": "code",
      "metadata": {
        "id": "2aL7lQAKv6FC",
        "colab": {
          "base_uri": "https://localhost:8080/"
        },
        "outputId": "a5e6e128-11c4-4a33-80af-baaf6f9f684a"
      },
      "source": [
        "root(converge, (TaExit_guess,yExit_guess))"
      ],
      "execution_count": 49,
      "outputs": [
        {
          "output_type": "stream",
          "text": [
            "/usr/local/lib/python3.7/dist-packages/numpy/core/_asarray.py:136: VisibleDeprecationWarning:\n",
            "\n",
            "Creating an ndarray from ragged nested sequences (which is a list-or-tuple of lists-or-tuples-or ndarrays with different lengths or shapes) is deprecated. If you meant to do this, you must specify 'dtype=object' when creating the ndarray\n",
            "\n"
          ],
          "name": "stderr"
        },
        {
          "output_type": "execute_result",
          "data": {
            "text/plain": [
              "    fjac: array([[-5.21746123e-05,  9.99999999e-01],\n",
              "       [-9.99999999e-01, -5.21746123e-05]])\n",
              "     fun: array([ 5.69400065e-11, -2.34540494e-08])\n",
              " message: 'The solution converged.'\n",
              "    nfev: 6\n",
              "     qtf: array([ 1.93761651e-06, -1.29963014e-08])\n",
              "       r: array([  1.15727805, -28.5165548 ,  -1.10754762])\n",
              "  status: 1\n",
              " success: True\n",
              "       x: array([3.00319111e+02, 2.48966282e-02])"
            ]
          },
          "metadata": {
            "tags": []
          },
          "execution_count": 49
        }
      ]
    },
    {
      "cell_type": "code",
      "metadata": {
        "id": "tnUhMktvtafK",
        "colab": {
          "base_uri": "https://localhost:8080/",
          "height": 917
        },
        "outputId": "897ba7e2-eafe-4a1f-85ff-81c8ce646947"
      },
      "source": [
        "fig = make_subplots(rows=3, cols=1)\n",
        "fig.add_scatter(x=z, y=sol[1],name='H2O Temperature',row=1,col=1)\n",
        "fig.add_scatter(x=z, y=sol[2],name='Air Temperature', row=2,col=1)\n",
        "fig.add_scatter(x=z, y=sol[0]*P,name='H2O Partial Pressure',row=3,col=1)\n",
        "fig.update_layout(width=600, height=900)\n",
        "fig.show()"
      ],
      "execution_count": 50,
      "outputs": [
        {
          "output_type": "display_data",
          "data": {
            "text/html": [
              "<html>\n",
              "<head><meta charset=\"utf-8\" /></head>\n",
              "<body>\n",
              "    <div>\n",
              "            <script src=\"https://cdnjs.cloudflare.com/ajax/libs/mathjax/2.7.5/MathJax.js?config=TeX-AMS-MML_SVG\"></script><script type=\"text/javascript\">if (window.MathJax) {MathJax.Hub.Config({SVG: {font: \"STIX-Web\"}});}</script>\n",
              "                <script type=\"text/javascript\">window.PlotlyConfig = {MathJaxConfig: 'local'};</script>\n",
              "        <script src=\"https://cdn.plot.ly/plotly-latest.min.js\"></script>    \n",
              "            <div id=\"94bb2808-43b9-4a69-8ec3-9cf149fea36e\" class=\"plotly-graph-div\" style=\"height:900px; width:600px;\"></div>\n",
              "            <script type=\"text/javascript\">\n",
              "                \n",
              "                    window.PLOTLYENV=window.PLOTLYENV || {};\n",
              "                    \n",
              "                if (document.getElementById(\"94bb2808-43b9-4a69-8ec3-9cf149fea36e\")) {\n",
              "                    Plotly.newPlot(\n",
              "                        '94bb2808-43b9-4a69-8ec3-9cf149fea36e',\n",
              "                        [{\"name\": \"H2O Temperature\", \"type\": \"scatter\", \"x\": [0.0, 0.40816326530612246, 0.8163265306122449, 1.2244897959183674, 1.6326530612244898, 2.0408163265306123, 2.4489795918367347, 2.857142857142857, 3.2653061224489797, 3.673469387755102, 4.081632653061225, 4.4897959183673475, 4.8979591836734695, 5.3061224489795915, 5.714285714285714, 6.122448979591837, 6.530612244897959, 6.938775510204081, 7.346938775510204, 7.755102040816327, 8.16326530612245, 8.571428571428571, 8.979591836734695, 9.387755102040817, 9.795918367346939, 10.204081632653061, 10.612244897959183, 11.020408163265307, 11.428571428571429, 11.83673469387755, 12.244897959183675, 12.653061224489797, 13.061224489795919, 13.46938775510204, 13.877551020408163, 14.285714285714286, 14.693877551020408, 15.10204081632653, 15.510204081632654, 15.918367346938776, 16.3265306122449, 16.73469387755102, 17.142857142857142, 17.551020408163264, 17.95918367346939, 18.367346938775512, 18.775510204081634, 19.183673469387756, 19.591836734693878, 20.0], \"xaxis\": \"x\", \"y\": [343.15, 339.7248944015461, 336.7313864915224, 334.0893142843367, 331.73317356901737, 329.6021186637518, 327.6662437633859, 325.9003384910304, 324.2791924697959, 322.7841464216941, 321.3988558235427, 320.1062531035776, 318.89901044748615, 317.76980004095554, 316.71129406967304, 315.7161647193259, 314.7770841756013, 313.89157641611354, 313.0528824671917, 312.25544876614555, 311.49708702259517, 310.77560894616045, 310.08882624646145, 309.4345506331181, 308.81059381575034, 308.21476750397824, 307.6448834074217, 307.09875323570077, 306.5768288353785, 306.0757657932909, 305.5935230320122, 305.12940541503025, 304.6827178058329, 304.25276506790806, 303.8388520647435, 303.44028365982706, 303.05636471664656, 302.68640009868994, 302.32969466944496, 301.9855532923995, 301.65328083104146, 301.3321821488586, 301.02156210933873, 300.72072557596977, 300.4297278333784, 300.1489726642487, 299.8771756443174, 299.6139851894369, 299.3590497154597, 299.1120176382382], \"yaxis\": \"y\"}, {\"name\": \"Air Temperature\", \"type\": \"scatter\", \"x\": [0.0, 0.40816326530612246, 0.8163265306122449, 1.2244897959183674, 1.6326530612244898, 2.0408163265306123, 2.4489795918367347, 2.857142857142857, 3.2653061224489797, 3.673469387755102, 4.081632653061225, 4.4897959183673475, 4.8979591836734695, 5.3061224489795915, 5.714285714285714, 6.122448979591837, 6.530612244897959, 6.938775510204081, 7.346938775510204, 7.755102040816327, 8.16326530612245, 8.571428571428571, 8.979591836734695, 9.387755102040817, 9.795918367346939, 10.204081632653061, 10.612244897959183, 11.020408163265307, 11.428571428571429, 11.83673469387755, 12.244897959183675, 12.653061224489797, 13.061224489795919, 13.46938775510204, 13.877551020408163, 14.285714285714286, 14.693877551020408, 15.10204081632653, 15.510204081632654, 15.918367346938776, 16.3265306122449, 16.73469387755102, 17.142857142857142, 17.551020408163264, 17.95918367346939, 18.367346938775512, 18.775510204081634, 19.183673469387756, 19.591836734693878, 20.0], \"xaxis\": \"x2\", \"y\": [300.3191114839183, 300.18173711065043, 300.05444962833934, 299.9361001519084, 299.8256993066272, 299.7222570958428, 299.6252056986331, 299.5340426222102, 299.44826537378634, 299.3674390001004, 299.2911024860184, 299.21889938797557, 299.15061351289864, 299.08602866771446, 299.0249286593498, 298.96709729473173, 298.91231838078687, 298.86045509947434, 298.81127288859653, 298.76461023671857, 298.7203725995338, 298.6784654327358, 298.6387941920179, 298.6012643330735, 298.56578131159625, 298.53225058327945, 298.5005776038165, 298.47066782890096, 298.4425228058556, 298.4159834963257, 298.39095648161555, 298.36740158018836, 298.34527861050714, 298.32454739103497, 298.305167740235, 298.2870994765703, 298.2703024185039, 298.254736384499, 298.2403611930186, 298.2271366625259, 298.21502261148385, 298.20397885835564, 298.1939652216043, 298.184941519693, 298.17686944321633, 298.16972861507395, 298.1634962547354, 298.1581473618009, 298.1536569358709, 298.1499999765459], \"yaxis\": \"y2\"}, {\"name\": \"H2O Partial Pressure\", \"type\": \"scatter\", \"x\": [0.0, 0.40816326530612246, 0.8163265306122449, 1.2244897959183674, 1.6326530612244898, 2.0408163265306123, 2.4489795918367347, 2.857142857142857, 3.2653061224489797, 3.673469387755102, 4.081632653061225, 4.4897959183673475, 4.8979591836734695, 5.3061224489795915, 5.714285714285714, 6.122448979591837, 6.530612244897959, 6.938775510204081, 7.346938775510204, 7.755102040816327, 8.16326530612245, 8.571428571428571, 8.979591836734695, 9.387755102040817, 9.795918367346939, 10.204081632653061, 10.612244897959183, 11.020408163265307, 11.428571428571429, 11.83673469387755, 12.244897959183675, 12.653061224489797, 13.061224489795919, 13.46938775510204, 13.877551020408163, 14.285714285714286, 14.693877551020408, 15.10204081632653, 15.510204081632654, 15.918367346938776, 16.3265306122449, 16.73469387755102, 17.142857142857142, 17.551020408163264, 17.95918367346939, 18.367346938775512, 18.775510204081634, 19.183673469387756, 19.591836734693878, 20.0], \"xaxis\": \"x3\", \"y\": [2522.650856316608, 2447.3652115596465, 2382.0377953735847, 2324.7727031786517, 2274.0237112362183, 2228.3584550325836, 2187.0778752670926, 2149.594146901056, 2115.319444895783, 2083.8227664855353, 2054.7315378901712, 2027.648763275802, 2002.408110848984, 1978.8432488162737, 1956.7878453842268, 1936.0755687593996, 1916.5400871483487, 1898.129392564341, 1880.69232576264, 1864.1026948569215, 1848.312839063823, 1833.2750975999816, 1818.941809682035, 1805.2653145266208, 1792.1979513503768, 1779.69205936994, 1767.6999778019476, 1756.174045863038, 1745.1253563727141, 1734.4820370648868, 1724.199981496322, 1714.2647472405536, 1704.6618918711154, 1695.376972961541, 1686.395548085365, 1677.7031748161205, 1669.2854107273422, 1661.1278133925637, 1653.2159403853188, 1645.5353492791417, 1638.0715976475656, 1630.8102430641252, 1623.7368431023542, 1616.8369553357861, 1610.1145805897997, 1603.5811168221887, 1597.2063458030404, 1590.9832869006211, 1584.9049594831968, 1578.9643829190336], \"yaxis\": \"y3\"}],\n",
              "                        {\"height\": 900, \"template\": {\"data\": {\"bar\": [{\"error_x\": {\"color\": \"#f2f5fa\"}, \"error_y\": {\"color\": \"#f2f5fa\"}, \"marker\": {\"line\": {\"color\": \"rgb(17,17,17)\", \"width\": 0.5}}, \"type\": \"bar\"}], \"barpolar\": [{\"marker\": {\"line\": {\"color\": \"rgb(17,17,17)\", \"width\": 0.5}}, \"type\": \"barpolar\"}], \"carpet\": [{\"aaxis\": {\"endlinecolor\": \"#A2B1C6\", \"gridcolor\": \"#506784\", \"linecolor\": \"#506784\", \"minorgridcolor\": \"#506784\", \"startlinecolor\": \"#A2B1C6\"}, \"baxis\": {\"endlinecolor\": \"#A2B1C6\", \"gridcolor\": \"#506784\", \"linecolor\": \"#506784\", \"minorgridcolor\": \"#506784\", \"startlinecolor\": \"#A2B1C6\"}, \"type\": \"carpet\"}], \"choropleth\": [{\"colorbar\": {\"outlinewidth\": 0, \"ticks\": \"\"}, \"type\": \"choropleth\"}], \"contour\": [{\"colorbar\": {\"outlinewidth\": 0, \"ticks\": \"\"}, \"colorscale\": [[0.0, \"#0d0887\"], [0.1111111111111111, \"#46039f\"], [0.2222222222222222, \"#7201a8\"], [0.3333333333333333, \"#9c179e\"], [0.4444444444444444, \"#bd3786\"], [0.5555555555555556, \"#d8576b\"], [0.6666666666666666, \"#ed7953\"], [0.7777777777777778, \"#fb9f3a\"], [0.8888888888888888, \"#fdca26\"], [1.0, \"#f0f921\"]], \"type\": \"contour\"}], \"contourcarpet\": [{\"colorbar\": {\"outlinewidth\": 0, \"ticks\": \"\"}, \"type\": \"contourcarpet\"}], \"heatmap\": [{\"colorbar\": {\"outlinewidth\": 0, \"ticks\": \"\"}, \"colorscale\": [[0.0, \"#0d0887\"], [0.1111111111111111, \"#46039f\"], [0.2222222222222222, \"#7201a8\"], [0.3333333333333333, \"#9c179e\"], [0.4444444444444444, \"#bd3786\"], [0.5555555555555556, \"#d8576b\"], [0.6666666666666666, \"#ed7953\"], [0.7777777777777778, \"#fb9f3a\"], [0.8888888888888888, \"#fdca26\"], [1.0, \"#f0f921\"]], \"type\": \"heatmap\"}], \"heatmapgl\": [{\"colorbar\": {\"outlinewidth\": 0, \"ticks\": \"\"}, \"colorscale\": [[0.0, \"#0d0887\"], [0.1111111111111111, \"#46039f\"], [0.2222222222222222, \"#7201a8\"], [0.3333333333333333, \"#9c179e\"], [0.4444444444444444, \"#bd3786\"], [0.5555555555555556, \"#d8576b\"], [0.6666666666666666, \"#ed7953\"], [0.7777777777777778, \"#fb9f3a\"], [0.8888888888888888, \"#fdca26\"], [1.0, \"#f0f921\"]], \"type\": \"heatmapgl\"}], \"histogram\": [{\"marker\": {\"colorbar\": {\"outlinewidth\": 0, \"ticks\": \"\"}}, \"type\": \"histogram\"}], \"histogram2d\": [{\"colorbar\": {\"outlinewidth\": 0, \"ticks\": \"\"}, \"colorscale\": [[0.0, \"#0d0887\"], [0.1111111111111111, \"#46039f\"], [0.2222222222222222, \"#7201a8\"], [0.3333333333333333, \"#9c179e\"], [0.4444444444444444, \"#bd3786\"], [0.5555555555555556, \"#d8576b\"], [0.6666666666666666, \"#ed7953\"], [0.7777777777777778, \"#fb9f3a\"], [0.8888888888888888, \"#fdca26\"], [1.0, \"#f0f921\"]], \"type\": \"histogram2d\"}], \"histogram2dcontour\": [{\"colorbar\": {\"outlinewidth\": 0, \"ticks\": \"\"}, \"colorscale\": [[0.0, \"#0d0887\"], [0.1111111111111111, \"#46039f\"], [0.2222222222222222, \"#7201a8\"], [0.3333333333333333, \"#9c179e\"], [0.4444444444444444, \"#bd3786\"], [0.5555555555555556, \"#d8576b\"], [0.6666666666666666, \"#ed7953\"], [0.7777777777777778, \"#fb9f3a\"], [0.8888888888888888, \"#fdca26\"], [1.0, \"#f0f921\"]], \"type\": \"histogram2dcontour\"}], \"mesh3d\": [{\"colorbar\": {\"outlinewidth\": 0, \"ticks\": \"\"}, \"type\": \"mesh3d\"}], \"parcoords\": [{\"line\": {\"colorbar\": {\"outlinewidth\": 0, \"ticks\": \"\"}}, \"type\": \"parcoords\"}], \"pie\": [{\"automargin\": true, \"type\": \"pie\"}], \"scatter\": [{\"marker\": {\"line\": {\"color\": \"#283442\"}}, \"type\": \"scatter\"}], \"scatter3d\": [{\"line\": {\"colorbar\": {\"outlinewidth\": 0, \"ticks\": \"\"}}, \"marker\": {\"colorbar\": {\"outlinewidth\": 0, \"ticks\": \"\"}}, \"type\": \"scatter3d\"}], \"scattercarpet\": [{\"marker\": {\"colorbar\": {\"outlinewidth\": 0, \"ticks\": \"\"}}, \"type\": \"scattercarpet\"}], \"scattergeo\": [{\"marker\": {\"colorbar\": {\"outlinewidth\": 0, \"ticks\": \"\"}}, \"type\": \"scattergeo\"}], \"scattergl\": [{\"marker\": {\"line\": {\"color\": \"#283442\"}}, \"type\": \"scattergl\"}], \"scattermapbox\": [{\"marker\": {\"colorbar\": {\"outlinewidth\": 0, \"ticks\": \"\"}}, \"type\": \"scattermapbox\"}], \"scatterpolar\": [{\"marker\": {\"colorbar\": {\"outlinewidth\": 0, \"ticks\": \"\"}}, \"type\": \"scatterpolar\"}], \"scatterpolargl\": [{\"marker\": {\"colorbar\": {\"outlinewidth\": 0, \"ticks\": \"\"}}, \"type\": \"scatterpolargl\"}], \"scatterternary\": [{\"marker\": {\"colorbar\": {\"outlinewidth\": 0, \"ticks\": \"\"}}, \"type\": \"scatterternary\"}], \"surface\": [{\"colorbar\": {\"outlinewidth\": 0, \"ticks\": \"\"}, \"colorscale\": [[0.0, \"#0d0887\"], [0.1111111111111111, \"#46039f\"], [0.2222222222222222, \"#7201a8\"], [0.3333333333333333, \"#9c179e\"], [0.4444444444444444, \"#bd3786\"], [0.5555555555555556, \"#d8576b\"], [0.6666666666666666, \"#ed7953\"], [0.7777777777777778, \"#fb9f3a\"], [0.8888888888888888, \"#fdca26\"], [1.0, \"#f0f921\"]], \"type\": \"surface\"}], \"table\": [{\"cells\": {\"fill\": {\"color\": \"#506784\"}, \"line\": {\"color\": \"rgb(17,17,17)\"}}, \"header\": {\"fill\": {\"color\": \"#2a3f5f\"}, \"line\": {\"color\": \"rgb(17,17,17)\"}}, \"type\": \"table\"}]}, \"layout\": {\"annotationdefaults\": {\"arrowcolor\": \"#f2f5fa\", \"arrowhead\": 0, \"arrowwidth\": 1}, \"coloraxis\": {\"colorbar\": {\"outlinewidth\": 0, \"ticks\": \"\"}}, \"colorscale\": {\"diverging\": [[0, \"#8e0152\"], [0.1, \"#c51b7d\"], [0.2, \"#de77ae\"], [0.3, \"#f1b6da\"], [0.4, \"#fde0ef\"], [0.5, \"#f7f7f7\"], [0.6, \"#e6f5d0\"], [0.7, \"#b8e186\"], [0.8, \"#7fbc41\"], [0.9, \"#4d9221\"], [1, \"#276419\"]], \"sequential\": [[0.0, \"#0d0887\"], [0.1111111111111111, \"#46039f\"], [0.2222222222222222, \"#7201a8\"], [0.3333333333333333, \"#9c179e\"], [0.4444444444444444, \"#bd3786\"], [0.5555555555555556, \"#d8576b\"], [0.6666666666666666, \"#ed7953\"], [0.7777777777777778, \"#fb9f3a\"], [0.8888888888888888, \"#fdca26\"], [1.0, \"#f0f921\"]], \"sequentialminus\": [[0.0, \"#0d0887\"], [0.1111111111111111, \"#46039f\"], [0.2222222222222222, \"#7201a8\"], [0.3333333333333333, \"#9c179e\"], [0.4444444444444444, \"#bd3786\"], [0.5555555555555556, \"#d8576b\"], [0.6666666666666666, \"#ed7953\"], [0.7777777777777778, \"#fb9f3a\"], [0.8888888888888888, \"#fdca26\"], [1.0, \"#f0f921\"]]}, \"colorway\": [\"#636efa\", \"#EF553B\", \"#00cc96\", \"#ab63fa\", \"#FFA15A\", \"#19d3f3\", \"#FF6692\", \"#B6E880\", \"#FF97FF\", \"#FECB52\"], \"font\": {\"color\": \"#f2f5fa\"}, \"geo\": {\"bgcolor\": \"rgb(17,17,17)\", \"lakecolor\": \"rgb(17,17,17)\", \"landcolor\": \"rgb(17,17,17)\", \"showlakes\": true, \"showland\": true, \"subunitcolor\": \"#506784\"}, \"hoverlabel\": {\"align\": \"left\"}, \"hovermode\": \"closest\", \"mapbox\": {\"style\": \"dark\"}, \"paper_bgcolor\": \"rgb(17,17,17)\", \"plot_bgcolor\": \"rgb(17,17,17)\", \"polar\": {\"angularaxis\": {\"gridcolor\": \"#506784\", \"linecolor\": \"#506784\", \"ticks\": \"\"}, \"bgcolor\": \"rgb(17,17,17)\", \"radialaxis\": {\"gridcolor\": \"#506784\", \"linecolor\": \"#506784\", \"ticks\": \"\"}}, \"scene\": {\"xaxis\": {\"backgroundcolor\": \"rgb(17,17,17)\", \"gridcolor\": \"#506784\", \"gridwidth\": 2, \"linecolor\": \"#506784\", \"showbackground\": true, \"ticks\": \"\", \"zerolinecolor\": \"#C8D4E3\"}, \"yaxis\": {\"backgroundcolor\": \"rgb(17,17,17)\", \"gridcolor\": \"#506784\", \"gridwidth\": 2, \"linecolor\": \"#506784\", \"showbackground\": true, \"ticks\": \"\", \"zerolinecolor\": \"#C8D4E3\"}, \"zaxis\": {\"backgroundcolor\": \"rgb(17,17,17)\", \"gridcolor\": \"#506784\", \"gridwidth\": 2, \"linecolor\": \"#506784\", \"showbackground\": true, \"ticks\": \"\", \"zerolinecolor\": \"#C8D4E3\"}}, \"shapedefaults\": {\"line\": {\"color\": \"#f2f5fa\"}}, \"sliderdefaults\": {\"bgcolor\": \"#C8D4E3\", \"bordercolor\": \"rgb(17,17,17)\", \"borderwidth\": 1, \"tickwidth\": 0}, \"ternary\": {\"aaxis\": {\"gridcolor\": \"#506784\", \"linecolor\": \"#506784\", \"ticks\": \"\"}, \"baxis\": {\"gridcolor\": \"#506784\", \"linecolor\": \"#506784\", \"ticks\": \"\"}, \"bgcolor\": \"rgb(17,17,17)\", \"caxis\": {\"gridcolor\": \"#506784\", \"linecolor\": \"#506784\", \"ticks\": \"\"}}, \"title\": {\"x\": 0.05}, \"updatemenudefaults\": {\"bgcolor\": \"#506784\", \"borderwidth\": 0}, \"xaxis\": {\"automargin\": true, \"gridcolor\": \"#283442\", \"linecolor\": \"#506784\", \"ticks\": \"\", \"title\": {\"standoff\": 15}, \"zerolinecolor\": \"#283442\", \"zerolinewidth\": 2}, \"yaxis\": {\"automargin\": true, \"gridcolor\": \"#283442\", \"linecolor\": \"#506784\", \"ticks\": \"\", \"title\": {\"standoff\": 15}, \"zerolinecolor\": \"#283442\", \"zerolinewidth\": 2}}}, \"width\": 600, \"xaxis\": {\"anchor\": \"y\", \"domain\": [0.0, 1.0]}, \"xaxis2\": {\"anchor\": \"y2\", \"domain\": [0.0, 1.0]}, \"xaxis3\": {\"anchor\": \"y3\", \"domain\": [0.0, 1.0]}, \"yaxis\": {\"anchor\": \"x\", \"domain\": [0.7333333333333333, 1.0]}, \"yaxis2\": {\"anchor\": \"x2\", \"domain\": [0.36666666666666664, 0.6333333333333333]}, \"yaxis3\": {\"anchor\": \"x3\", \"domain\": [0.0, 0.26666666666666666]}},\n",
              "                        {\"responsive\": true}\n",
              "                    ).then(function(){\n",
              "                            \n",
              "var gd = document.getElementById('94bb2808-43b9-4a69-8ec3-9cf149fea36e');\n",
              "var x = new MutationObserver(function (mutations, observer) {{\n",
              "        var display = window.getComputedStyle(gd).display;\n",
              "        if (!display || display === 'none') {{\n",
              "            console.log([gd, 'removed!']);\n",
              "            Plotly.purge(gd);\n",
              "            observer.disconnect();\n",
              "        }}\n",
              "}});\n",
              "\n",
              "// Listen for the removal of the full notebook cells\n",
              "var notebookContainer = gd.closest('#notebook-container');\n",
              "if (notebookContainer) {{\n",
              "    x.observe(notebookContainer, {childList: true});\n",
              "}}\n",
              "\n",
              "// Listen for the clearing of the current output cell\n",
              "var outputEl = gd.closest('.output');\n",
              "if (outputEl) {{\n",
              "    x.observe(outputEl, {childList: true});\n",
              "}}\n",
              "\n",
              "                        })\n",
              "                };\n",
              "                \n",
              "            </script>\n",
              "        </div>\n",
              "</body>\n",
              "</html>"
            ]
          },
          "metadata": {
            "tags": []
          }
        }
      ]
    }
  ]
}