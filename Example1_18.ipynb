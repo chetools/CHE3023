{
  "nbformat": 4,
  "nbformat_minor": 0,
  "metadata": {
    "colab": {
      "name": "Example1_18.ipynb",
      "provenance": [],
      "authorship_tag": "ABX9TyNY+4JJ7qrBBXUncR+4+16g",
      "include_colab_link": true
    },
    "kernelspec": {
      "name": "python3",
      "display_name": "Python 3"
    },
    "language_info": {
      "name": "python"
    }
  },
  "cells": [
    {
      "cell_type": "markdown",
      "metadata": {
        "id": "view-in-github",
        "colab_type": "text"
      },
      "source": [
        "<a href=\"https://colab.research.google.com/github/profteachkids/CHE3023/blob/main/Example1_18.ipynb\" target=\"_parent\"><img src=\"https://colab.research.google.com/assets/colab-badge.svg\" alt=\"Open In Colab\"/></a>"
      ]
    },
    {
      "cell_type": "code",
      "metadata": {
        "id": "3mnmScNo_nZi"
      },
      "source": [
        "import numpy as np\n",
        "from scipy.integrate import solve_ivp\n",
        "from scipy.optimize import root\n",
        "from plotly.subplots import make_subplots\n",
        "import plotly.graph_objects as go\n",
        "import plotly.io as pio\n",
        "pio.templates.default='plotly_dark'"
      ],
      "execution_count": null,
      "outputs": []
    },
    {
      "cell_type": "code",
      "metadata": {
        "id": "ai07g2U3zBPU"
      },
      "source": [
        "D12=72e-6  # m2/s\n",
        "D13=230e-6\n",
        "D23 = 230e-6\n",
        "P=101325  #Pa\n",
        "T=548 #K\n",
        "R=8.314 #J/(mol K)\n",
        "c=P/(R*T)\n",
        "kr=10  # mol/(m2 s mol frac)\n",
        "delta=1e-3\n",
        "F12=c*D12/delta\n",
        "F13=c*D13/delta\n",
        "F23=c*D23/delta\n",
        "y1guess=0.1 # mol fraction at catalyst surface, initial guess\n",
        "y2guess=0.5\n"
      ],
      "execution_count": null,
      "outputs": []
    },
    {
      "cell_type": "code",
      "metadata": {
        "id": "Nin5Jd2yzEie"
      },
      "source": [
        "def f(yi):\n",
        "\n",
        "    y1i=yi[0] # iterated mole fractions at catalyst surface\n",
        "    y2i=yi[1]\n",
        "    N1 = -kr*y1i\n",
        "    N2=-N1\n",
        "    N3=-N1\n",
        "    def dy(eta, y):\n",
        "        y1=y[0]\n",
        "        y2=y[1]\n",
        "        y3=(1-y1-y2)\n",
        "        return np.array([(y1*N2-y2*N1)/F12 + (y1*N3-y3*N1)/F13,\n",
        "                    (y2*N1-y1*N2)/F12+ (y2*N3- y3*N2)/F23])\n",
        "\n",
        "\n",
        "    ybulk=solve_ivp(dy,(0,1),(y1i, y2i),method='Radau',dense_output=True).sol(1)\n",
        "    return [ybulk[0]-0.6, ybulk[1]-0.2] \n"
      ],
      "execution_count": null,
      "outputs": []
    },
    {
      "cell_type": "code",
      "metadata": {
        "id": "PInMI2HUMSX3"
      },
      "source": [
        "res=root(f, [y1guess, y2guess])\n",
        "y1i=res.x[0]\n",
        "y2i=res.x[1]\n",
        "N1 = -kr*y1i\n",
        "N2=-N1\n",
        "N3=-N1\n",
        "def dy(eta, y):\n",
        "    y1=y[0]\n",
        "    y2=y[1]\n",
        "    y3=(1-y1-y2)\n",
        "    return np.array([(y1*N2-y2*N1)/F12 + (y1*N3-y3*N1)/F13,\n",
        "                (y2*N1-y1*N2)/F12 + (y2*N3- y3*N2)/F23])\n",
        "\n",
        "\n",
        "res=solve_ivp(dy,(0,1),(y1i, y2i),method='Radau',dense_output=True)"
      ],
      "execution_count": null,
      "outputs": []
    },
    {
      "cell_type": "code",
      "metadata": {
        "id": "gnOvgP_nHtl6"
      },
      "source": [
        "eta_plot=np.linspace(0,1,51)\n",
        "sol=res.sol(eta_plot)"
      ],
      "execution_count": null,
      "outputs": []
    },
    {
      "cell_type": "code",
      "metadata": {
        "colab": {
          "base_uri": "https://localhost:8080/",
          "height": 542
        },
        "id": "EbJRc9Ms6pE7",
        "outputId": "c2362f03-d2c5-4af7-ff36-45b2e91717ab"
      },
      "source": [
        "fig=make_subplots(rows=1,cols=1)\n",
        "fig.add_trace(go.Scatter(x=eta_plot*delta,y=sol[0],name='ethanol'))\n",
        "fig.add_trace(go.Scatter(x=eta_plot*delta,y=sol[1],name='acetaldehye'))\n",
        "fig.add_trace(go.Scatter(x=eta_plot*delta,y=1-sol[0]-sol[1],name='hydrogen'))"
      ],
      "execution_count": null,
      "outputs": [
        {
          "output_type": "display_data",
          "data": {
            "text/html": [
              "<html>\n",
              "<head><meta charset=\"utf-8\" /></head>\n",
              "<body>\n",
              "    <div>\n",
              "            <script src=\"https://cdnjs.cloudflare.com/ajax/libs/mathjax/2.7.5/MathJax.js?config=TeX-AMS-MML_SVG\"></script><script type=\"text/javascript\">if (window.MathJax) {MathJax.Hub.Config({SVG: {font: \"STIX-Web\"}});}</script>\n",
              "                <script type=\"text/javascript\">window.PlotlyConfig = {MathJaxConfig: 'local'};</script>\n",
              "        <script src=\"https://cdn.plot.ly/plotly-latest.min.js\"></script>    \n",
              "            <div id=\"2723bf8e-013d-41c2-b44f-469f07e3d12c\" class=\"plotly-graph-div\" style=\"height:525px; width:100%;\"></div>\n",
              "            <script type=\"text/javascript\">\n",
              "                \n",
              "                    window.PLOTLYENV=window.PLOTLYENV || {};\n",
              "                    \n",
              "                if (document.getElementById(\"2723bf8e-013d-41c2-b44f-469f07e3d12c\")) {\n",
              "                    Plotly.newPlot(\n",
              "                        '2723bf8e-013d-41c2-b44f-469f07e3d12c',\n",
              "                        [{\"name\": \"ethanol\", \"type\": \"scatter\", \"x\": [0.0, 2e-05, 4e-05, 6e-05, 8e-05, 0.0001, 0.00012, 0.00014000000000000001, 0.00016, 0.00017999999999999998, 0.0002, 0.00022, 0.00024, 0.00026000000000000003, 0.00028000000000000003, 0.0003, 0.00032, 0.00034, 0.00035999999999999997, 0.00038, 0.0004, 0.00042, 0.00044, 0.00046, 0.00048, 0.0005, 0.0005200000000000001, 0.00054, 0.0005600000000000001, 0.00058, 0.0006, 0.00062, 0.00064, 0.00066, 0.00068, 0.0007000000000000001, 0.0007199999999999999, 0.00074, 0.00076, 0.0007800000000000001, 0.0008, 0.0008200000000000001, 0.00084, 0.00086, 0.00088, 0.0009000000000000001, 0.00092, 0.0009400000000000001, 0.00096, 0.00098, 0.001], \"y\": [0.08880137134869595, 0.09773028101863186, 0.10670813121276843, 0.11573527314626908, 0.12481177384690674, 0.13393787121355774, 0.14311381124393457, 0.15233983993574982, 0.161616203286716, 0.17094314729454563, 0.18032091795695127, 0.18974976127164545, 0.1992299232363407, 0.20876164984874962, 0.21834518710658468, 0.22798078100755836, 0.23766867754938334, 0.24740912272977214, 0.25720236254643714, 0.2670486429970911, 0.27694821007944637, 0.28690130979121553, 0.2969081881301112, 0.30696925948080955, 0.31708475517629214, 0.3272546970411636, 0.33747935917842764, 0.3477590156910878, 0.3580939406821478, 0.36848440825461115, 0.3789306925114817, 0.38943306755576296, 0.39999180749045865, 0.4106071864185724, 0.4212794784431078, 0.4320089576670686, 0.4427958981934582, 0.4536405741252807, 0.4645432595655393, 0.47550422861723785, 0.48652375538338, 0.49760211396696935, 0.5087395784710095, 0.5199364229985042, 0.5311929216524571, 0.5425093485358718, 0.553885977751752, 0.5653230834031011, 0.5768209395929231, 0.5883798204242214, 0.5999999999999999]}, {\"name\": \"acetaldehye\", \"type\": \"scatter\", \"x\": [0.0, 2e-05, 4e-05, 6e-05, 8e-05, 0.0001, 0.00012, 0.00014000000000000001, 0.00016, 0.00017999999999999998, 0.0002, 0.00022, 0.00024, 0.00026000000000000003, 0.00028000000000000003, 0.0003, 0.00032, 0.00034, 0.00035999999999999997, 0.00038, 0.0004, 0.00042, 0.00044, 0.00046, 0.00048, 0.0005, 0.0005200000000000001, 0.00054, 0.0005600000000000001, 0.00058, 0.0006, 0.00062, 0.00064, 0.00066, 0.00068, 0.0007000000000000001, 0.0007199999999999999, 0.00074, 0.00076, 0.0007800000000000001, 0.0008, 0.0008200000000000001, 0.00084, 0.00086, 0.00088, 0.0009000000000000001, 0.00092, 0.0009400000000000001, 0.00096, 0.00098, 0.001], \"y\": [0.5837007722640003, 0.577110934930106, 0.5704802927493743, 0.5638085341053107, 0.5570956045236384, 0.5503412949285452, 0.5435453889162086, 0.5367076700828061, 0.5298279220245148, 0.5229059283375121, 0.5159414726179757, 0.5089343384620827, 0.5018843094660106, 0.4947911692259368, 0.48765470133803857, 0.4804746893984934, 0.4732509170034786, 0.4659831677491716, 0.4586712252317498, 0.4513148730473906, 0.4439138947922713, 0.43646807406256927, 0.42897719445446203, 0.4214408869223969, 0.41385894837411247, 0.4062313656423385, 0.3985578968680277, 0.39083830019213234, 0.38307233375560507, 0.3752597556993984, 0.36740032416446483, 0.35949379729175673, 0.35153993322222676, 0.34353849009682746, 0.3354892260565112, 0.32739189924223056, 0.31924626779493803, 0.3110520898555862, 0.3028091235651274, 0.29451712706451433, 0.2861758584946994, 0.27778507599663504, 0.269344537711274, 0.2608540017795685, 0.2523132263424712, 0.24372196954093467, 0.2350799895159113, 0.2263870444083536, 0.21764289235921422, 0.20884729150944545, 0.19999999999999993]}, {\"name\": \"hydrogen\", \"type\": \"scatter\", \"x\": [0.0, 2e-05, 4e-05, 6e-05, 8e-05, 0.0001, 0.00012, 0.00014000000000000001, 0.00016, 0.00017999999999999998, 0.0002, 0.00022, 0.00024, 0.00026000000000000003, 0.00028000000000000003, 0.0003, 0.00032, 0.00034, 0.00035999999999999997, 0.00038, 0.0004, 0.00042, 0.00044, 0.00046, 0.00048, 0.0005, 0.0005200000000000001, 0.00054, 0.0005600000000000001, 0.00058, 0.0006, 0.00062, 0.00064, 0.00066, 0.00068, 0.0007000000000000001, 0.0007199999999999999, 0.00074, 0.00076, 0.0007800000000000001, 0.0008, 0.0008200000000000001, 0.00084, 0.00086, 0.00088, 0.0009000000000000001, 0.00092, 0.0009400000000000001, 0.00096, 0.00098, 0.001], \"y\": [0.3274978563873038, 0.3251587840512621, 0.32281157603785726, 0.3204561927484202, 0.31809262162945484, 0.31572083385789707, 0.31334079983985685, 0.3109524899814441, 0.3085558746887692, 0.3061509243679422, 0.303737609425073, 0.30131590026627186, 0.2988857672976487, 0.2964471809253135, 0.29400011155537675, 0.2915445295939482, 0.28908040544713803, 0.2866077095210563, 0.28412641222181306, 0.2816364839555183, 0.27913789512828235, 0.2766306161462152, 0.27411461741542675, 0.27158985359679355, 0.26905629644959544, 0.26651393731649786, 0.2639627439535447, 0.26140268411677986, 0.2588337255622472, 0.25625583604599045, 0.25366898332405347, 0.25107313515248036, 0.24846825928731453, 0.24585432348460012, 0.24323129550038103, 0.24059914309070085, 0.23795783401160375, 0.23530733601913312, 0.23264761686933327, 0.22997864431824783, 0.2273003861219206, 0.22461281003639566, 0.22191588381771654, 0.2192095752219273, 0.21649385200507165, 0.21376868192319348, 0.21103403273233673, 0.20828987218854528, 0.20553616804786265, 0.20277288806633312, 0.2000000000000002]}],\n",
              "                        {\"template\": {\"data\": {\"bar\": [{\"error_x\": {\"color\": \"#f2f5fa\"}, \"error_y\": {\"color\": \"#f2f5fa\"}, \"marker\": {\"line\": {\"color\": \"rgb(17,17,17)\", \"width\": 0.5}}, \"type\": \"bar\"}], \"barpolar\": [{\"marker\": {\"line\": {\"color\": \"rgb(17,17,17)\", \"width\": 0.5}}, \"type\": \"barpolar\"}], \"carpet\": [{\"aaxis\": {\"endlinecolor\": \"#A2B1C6\", \"gridcolor\": \"#506784\", \"linecolor\": \"#506784\", \"minorgridcolor\": \"#506784\", \"startlinecolor\": \"#A2B1C6\"}, \"baxis\": {\"endlinecolor\": \"#A2B1C6\", \"gridcolor\": \"#506784\", \"linecolor\": \"#506784\", \"minorgridcolor\": \"#506784\", \"startlinecolor\": \"#A2B1C6\"}, \"type\": \"carpet\"}], \"choropleth\": [{\"colorbar\": {\"outlinewidth\": 0, \"ticks\": \"\"}, \"type\": \"choropleth\"}], \"contour\": [{\"colorbar\": {\"outlinewidth\": 0, \"ticks\": \"\"}, \"colorscale\": [[0.0, \"#0d0887\"], [0.1111111111111111, \"#46039f\"], [0.2222222222222222, \"#7201a8\"], [0.3333333333333333, \"#9c179e\"], [0.4444444444444444, \"#bd3786\"], [0.5555555555555556, \"#d8576b\"], [0.6666666666666666, \"#ed7953\"], [0.7777777777777778, \"#fb9f3a\"], [0.8888888888888888, \"#fdca26\"], [1.0, \"#f0f921\"]], \"type\": \"contour\"}], \"contourcarpet\": [{\"colorbar\": {\"outlinewidth\": 0, \"ticks\": \"\"}, \"type\": \"contourcarpet\"}], \"heatmap\": [{\"colorbar\": {\"outlinewidth\": 0, \"ticks\": \"\"}, \"colorscale\": [[0.0, \"#0d0887\"], [0.1111111111111111, \"#46039f\"], [0.2222222222222222, \"#7201a8\"], [0.3333333333333333, \"#9c179e\"], [0.4444444444444444, \"#bd3786\"], [0.5555555555555556, \"#d8576b\"], [0.6666666666666666, \"#ed7953\"], [0.7777777777777778, \"#fb9f3a\"], [0.8888888888888888, \"#fdca26\"], [1.0, \"#f0f921\"]], \"type\": \"heatmap\"}], \"heatmapgl\": [{\"colorbar\": {\"outlinewidth\": 0, \"ticks\": \"\"}, \"colorscale\": [[0.0, \"#0d0887\"], [0.1111111111111111, \"#46039f\"], [0.2222222222222222, \"#7201a8\"], [0.3333333333333333, \"#9c179e\"], [0.4444444444444444, \"#bd3786\"], [0.5555555555555556, \"#d8576b\"], [0.6666666666666666, \"#ed7953\"], [0.7777777777777778, \"#fb9f3a\"], [0.8888888888888888, \"#fdca26\"], [1.0, \"#f0f921\"]], \"type\": \"heatmapgl\"}], \"histogram\": [{\"marker\": {\"colorbar\": {\"outlinewidth\": 0, \"ticks\": \"\"}}, \"type\": \"histogram\"}], \"histogram2d\": [{\"colorbar\": {\"outlinewidth\": 0, \"ticks\": \"\"}, \"colorscale\": [[0.0, \"#0d0887\"], [0.1111111111111111, \"#46039f\"], [0.2222222222222222, \"#7201a8\"], [0.3333333333333333, \"#9c179e\"], [0.4444444444444444, \"#bd3786\"], [0.5555555555555556, \"#d8576b\"], [0.6666666666666666, \"#ed7953\"], [0.7777777777777778, \"#fb9f3a\"], [0.8888888888888888, \"#fdca26\"], [1.0, \"#f0f921\"]], \"type\": \"histogram2d\"}], \"histogram2dcontour\": [{\"colorbar\": {\"outlinewidth\": 0, \"ticks\": \"\"}, \"colorscale\": [[0.0, \"#0d0887\"], [0.1111111111111111, \"#46039f\"], [0.2222222222222222, \"#7201a8\"], [0.3333333333333333, \"#9c179e\"], [0.4444444444444444, \"#bd3786\"], [0.5555555555555556, \"#d8576b\"], [0.6666666666666666, \"#ed7953\"], [0.7777777777777778, \"#fb9f3a\"], [0.8888888888888888, \"#fdca26\"], [1.0, \"#f0f921\"]], \"type\": \"histogram2dcontour\"}], \"mesh3d\": [{\"colorbar\": {\"outlinewidth\": 0, \"ticks\": \"\"}, \"type\": \"mesh3d\"}], \"parcoords\": [{\"line\": {\"colorbar\": {\"outlinewidth\": 0, \"ticks\": \"\"}}, \"type\": \"parcoords\"}], \"pie\": [{\"automargin\": true, \"type\": \"pie\"}], \"scatter\": [{\"marker\": {\"line\": {\"color\": \"#283442\"}}, \"type\": \"scatter\"}], \"scatter3d\": [{\"line\": {\"colorbar\": {\"outlinewidth\": 0, \"ticks\": \"\"}}, \"marker\": {\"colorbar\": {\"outlinewidth\": 0, \"ticks\": \"\"}}, \"type\": \"scatter3d\"}], \"scattercarpet\": [{\"marker\": {\"colorbar\": {\"outlinewidth\": 0, \"ticks\": \"\"}}, \"type\": \"scattercarpet\"}], \"scattergeo\": [{\"marker\": {\"colorbar\": {\"outlinewidth\": 0, \"ticks\": \"\"}}, \"type\": \"scattergeo\"}], \"scattergl\": [{\"marker\": {\"line\": {\"color\": \"#283442\"}}, \"type\": \"scattergl\"}], \"scattermapbox\": [{\"marker\": {\"colorbar\": {\"outlinewidth\": 0, \"ticks\": \"\"}}, \"type\": \"scattermapbox\"}], \"scatterpolar\": [{\"marker\": {\"colorbar\": {\"outlinewidth\": 0, \"ticks\": \"\"}}, \"type\": \"scatterpolar\"}], \"scatterpolargl\": [{\"marker\": {\"colorbar\": {\"outlinewidth\": 0, \"ticks\": \"\"}}, \"type\": \"scatterpolargl\"}], \"scatterternary\": [{\"marker\": {\"colorbar\": {\"outlinewidth\": 0, \"ticks\": \"\"}}, \"type\": \"scatterternary\"}], \"surface\": [{\"colorbar\": {\"outlinewidth\": 0, \"ticks\": \"\"}, \"colorscale\": [[0.0, \"#0d0887\"], [0.1111111111111111, \"#46039f\"], [0.2222222222222222, \"#7201a8\"], [0.3333333333333333, \"#9c179e\"], [0.4444444444444444, \"#bd3786\"], [0.5555555555555556, \"#d8576b\"], [0.6666666666666666, \"#ed7953\"], [0.7777777777777778, \"#fb9f3a\"], [0.8888888888888888, \"#fdca26\"], [1.0, \"#f0f921\"]], \"type\": \"surface\"}], \"table\": [{\"cells\": {\"fill\": {\"color\": \"#506784\"}, \"line\": {\"color\": \"rgb(17,17,17)\"}}, \"header\": {\"fill\": {\"color\": \"#2a3f5f\"}, \"line\": {\"color\": \"rgb(17,17,17)\"}}, \"type\": \"table\"}]}, \"layout\": {\"annotationdefaults\": {\"arrowcolor\": \"#f2f5fa\", \"arrowhead\": 0, \"arrowwidth\": 1}, \"coloraxis\": {\"colorbar\": {\"outlinewidth\": 0, \"ticks\": \"\"}}, \"colorscale\": {\"diverging\": [[0, \"#8e0152\"], [0.1, \"#c51b7d\"], [0.2, \"#de77ae\"], [0.3, \"#f1b6da\"], [0.4, \"#fde0ef\"], [0.5, \"#f7f7f7\"], [0.6, \"#e6f5d0\"], [0.7, \"#b8e186\"], [0.8, \"#7fbc41\"], [0.9, \"#4d9221\"], [1, \"#276419\"]], \"sequential\": [[0.0, \"#0d0887\"], [0.1111111111111111, \"#46039f\"], [0.2222222222222222, \"#7201a8\"], [0.3333333333333333, \"#9c179e\"], [0.4444444444444444, \"#bd3786\"], [0.5555555555555556, \"#d8576b\"], [0.6666666666666666, \"#ed7953\"], [0.7777777777777778, \"#fb9f3a\"], [0.8888888888888888, \"#fdca26\"], [1.0, \"#f0f921\"]], \"sequentialminus\": [[0.0, \"#0d0887\"], [0.1111111111111111, \"#46039f\"], [0.2222222222222222, \"#7201a8\"], [0.3333333333333333, \"#9c179e\"], [0.4444444444444444, \"#bd3786\"], [0.5555555555555556, \"#d8576b\"], [0.6666666666666666, \"#ed7953\"], [0.7777777777777778, \"#fb9f3a\"], [0.8888888888888888, \"#fdca26\"], [1.0, \"#f0f921\"]]}, \"colorway\": [\"#636efa\", \"#EF553B\", \"#00cc96\", \"#ab63fa\", \"#FFA15A\", \"#19d3f3\", \"#FF6692\", \"#B6E880\", \"#FF97FF\", \"#FECB52\"], \"font\": {\"color\": \"#f2f5fa\"}, \"geo\": {\"bgcolor\": \"rgb(17,17,17)\", \"lakecolor\": \"rgb(17,17,17)\", \"landcolor\": \"rgb(17,17,17)\", \"showlakes\": true, \"showland\": true, \"subunitcolor\": \"#506784\"}, \"hoverlabel\": {\"align\": \"left\"}, \"hovermode\": \"closest\", \"mapbox\": {\"style\": \"dark\"}, \"paper_bgcolor\": \"rgb(17,17,17)\", \"plot_bgcolor\": \"rgb(17,17,17)\", \"polar\": {\"angularaxis\": {\"gridcolor\": \"#506784\", \"linecolor\": \"#506784\", \"ticks\": \"\"}, \"bgcolor\": \"rgb(17,17,17)\", \"radialaxis\": {\"gridcolor\": \"#506784\", \"linecolor\": \"#506784\", \"ticks\": \"\"}}, \"scene\": {\"xaxis\": {\"backgroundcolor\": \"rgb(17,17,17)\", \"gridcolor\": \"#506784\", \"gridwidth\": 2, \"linecolor\": \"#506784\", \"showbackground\": true, \"ticks\": \"\", \"zerolinecolor\": \"#C8D4E3\"}, \"yaxis\": {\"backgroundcolor\": \"rgb(17,17,17)\", \"gridcolor\": \"#506784\", \"gridwidth\": 2, \"linecolor\": \"#506784\", \"showbackground\": true, \"ticks\": \"\", \"zerolinecolor\": \"#C8D4E3\"}, \"zaxis\": {\"backgroundcolor\": \"rgb(17,17,17)\", \"gridcolor\": \"#506784\", \"gridwidth\": 2, \"linecolor\": \"#506784\", \"showbackground\": true, \"ticks\": \"\", \"zerolinecolor\": \"#C8D4E3\"}}, \"shapedefaults\": {\"line\": {\"color\": \"#f2f5fa\"}}, \"sliderdefaults\": {\"bgcolor\": \"#C8D4E3\", \"bordercolor\": \"rgb(17,17,17)\", \"borderwidth\": 1, \"tickwidth\": 0}, \"ternary\": {\"aaxis\": {\"gridcolor\": \"#506784\", \"linecolor\": \"#506784\", \"ticks\": \"\"}, \"baxis\": {\"gridcolor\": \"#506784\", \"linecolor\": \"#506784\", \"ticks\": \"\"}, \"bgcolor\": \"rgb(17,17,17)\", \"caxis\": {\"gridcolor\": \"#506784\", \"linecolor\": \"#506784\", \"ticks\": \"\"}}, \"title\": {\"x\": 0.05}, \"updatemenudefaults\": {\"bgcolor\": \"#506784\", \"borderwidth\": 0}, \"xaxis\": {\"automargin\": true, \"gridcolor\": \"#283442\", \"linecolor\": \"#506784\", \"ticks\": \"\", \"title\": {\"standoff\": 15}, \"zerolinecolor\": \"#283442\", \"zerolinewidth\": 2}, \"yaxis\": {\"automargin\": true, \"gridcolor\": \"#283442\", \"linecolor\": \"#506784\", \"ticks\": \"\", \"title\": {\"standoff\": 15}, \"zerolinecolor\": \"#283442\", \"zerolinewidth\": 2}}}, \"xaxis\": {\"anchor\": \"y\", \"domain\": [0.0, 1.0]}, \"yaxis\": {\"anchor\": \"x\", \"domain\": [0.0, 1.0]}},\n",
              "                        {\"responsive\": true}\n",
              "                    ).then(function(){\n",
              "                            \n",
              "var gd = document.getElementById('2723bf8e-013d-41c2-b44f-469f07e3d12c');\n",
              "var x = new MutationObserver(function (mutations, observer) {{\n",
              "        var display = window.getComputedStyle(gd).display;\n",
              "        if (!display || display === 'none') {{\n",
              "            console.log([gd, 'removed!']);\n",
              "            Plotly.purge(gd);\n",
              "            observer.disconnect();\n",
              "        }}\n",
              "}});\n",
              "\n",
              "// Listen for the removal of the full notebook cells\n",
              "var notebookContainer = gd.closest('#notebook-container');\n",
              "if (notebookContainer) {{\n",
              "    x.observe(notebookContainer, {childList: true});\n",
              "}}\n",
              "\n",
              "// Listen for the clearing of the current output cell\n",
              "var outputEl = gd.closest('.output');\n",
              "if (outputEl) {{\n",
              "    x.observe(outputEl, {childList: true});\n",
              "}}\n",
              "\n",
              "                        })\n",
              "                };\n",
              "                \n",
              "            </script>\n",
              "        </div>\n",
              "</body>\n",
              "</html>"
            ]
          },
          "metadata": {
            "tags": []
          }
        }
      ]
    },
    {
      "cell_type": "code",
      "metadata": {
        "id": "jVnq5bPlHnt5"
      },
      "source": [
        ""
      ],
      "execution_count": null,
      "outputs": []
    }
  ]
}